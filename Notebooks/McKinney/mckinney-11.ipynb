{
 "cells": [
  {
   "cell_type": "markdown",
   "metadata": {},
   "source": [
    "# Key Takeaways\n",
    "\n",
    "Chapter 11 of Wes McKinney's [*Python for Data Analysis*](https://wesmckinney.com/pages/book.html) discusses time series and panel data, which is where pandas ***shines***.\n",
    "We will use these time series and panel tools every day for the rest of the course.\n",
    "\n",
    "***The key takeaways from this notebook are:***\n",
    "\n",
    "1. Slicing a data frame or series by date or date range\n",
    "1. Using the `.shift()` method to create leads and lags of variables\n",
    "1. Using the `.resample()` method to change the frequency of variables\n",
    "1. Using the `.rolling()` method to aggregate data over rolling windows\n",
    "\n",
    "***Note:*** Indented block quotes are from McKinney, and section numbers differ from McKinney because we will not discuss every topic."
   ]
  },
  {
   "cell_type": "code",
   "execution_count": 1,
   "metadata": {
    "collapsed": false,
    "editable": true,
    "jupyter": {
     "outputs_hidden": false
    }
   },
   "outputs": [],
   "source": [
    "import numpy as np\n",
    "import pandas as pd\n",
    "import matplotlib.pyplot as plt"
   ]
  },
  {
   "cell_type": "code",
   "execution_count": 2,
   "metadata": {},
   "outputs": [],
   "source": [
    "plt.rcParams['figure.dpi'] = 150\n",
    "np.set_printoptions(precision=4, suppress=True)\n",
    "pd.options.display.float_format = '{:.4f}'.format"
   ]
  },
  {
   "cell_type": "code",
   "execution_count": 3,
   "metadata": {
    "collapsed": false,
    "jupyter": {
     "outputs_hidden": false
    },
    "pycharm": {
     "name": "#%%\n"
    }
   },
   "outputs": [],
   "source": [
    "import yfinance as yf\n",
    "import pandas_datareader as pdr\n",
    "import requests_cache\n",
    "session = requests_cache.CachedSession(expire_after='1D')"
   ]
  },
  {
   "cell_type": "markdown",
   "metadata": {},
   "source": [
    "McKinney provides an excellent introduction to the concept of time series and panel data:\n",
    "\n",
    "> Time series data is an important form of structured data in many different fields, such\n",
    "as finance, economics, ecology, neuroscience, and physics. Anything that is observed\n",
    "or measured at many points in time forms a time series. Many time series are fixed\n",
    "frequency, which is to say that data points occur at regular intervals according to some\n",
    "rule, such as every 15 seconds, every 5 minutes, or once per month. Time series can\n",
    "also be irregular without a fixed unit of time or offset between units. How you mark\n",
    "and refer to time series data depends on the application, and you may have one of the\n",
    "following:\n",
    "> - Timestamps, specific instants in time\n",
    "> - Fixed periods, such as the month January 2007 or the full year 2010\n",
    "> - Intervals of time, indicated by a start and end timestamp. Periods can be thought\n",
    "of as special cases of intervals\n",
    "> - Experiment or elapsed time; each timestamp is a measure of time relative to a\n",
    "particular start time (e.g., the diameter of a cookie baking each second since\n",
    "being placed in the oven)\n",
    ">\n",
    ">In this chapter, I am mainly concerned with time series in the first three categories,\n",
    "though many of the techniques can be applied to experimental time series where the\n",
    "index may be an integer or floating-point number indicating elapsed time from the\n",
    "start of the experiment. The simplest and most widely used kind of time series are\n",
    "those indexed by timestamp.\n",
    "323\n",
    ">\n",
    "> pandas provides many built-in time series tools and data algorithms. You can effi‐\n",
    "ciently work with very large time series and easily slice and dice, aggregate, and\n",
    "resample irregular- and fixed-frequency time series. Some of these tools are especially\n",
    "useful for financial and economics applications, but you could certainly use them to\n",
    "analyze server log data, too."
   ]
  },
  {
   "cell_type": "markdown",
   "metadata": {
    "deletable": true,
    "editable": true
   },
   "source": [
    "# Time Series Basics"
   ]
  },
  {
   "cell_type": "markdown",
   "metadata": {},
   "source": [
    "Let us create a time series to play with."
   ]
  },
  {
   "cell_type": "code",
   "execution_count": 4,
   "metadata": {
    "deletable": true,
    "editable": true,
    "tags": []
   },
   "outputs": [],
   "source": [
    "from datetime import datetime\n",
    "dates = [\n",
    "    datetime(2011, 1, 2), \n",
    "     datetime(2011, 1, 5),\n",
    "     datetime(2011, 1, 7), \n",
    "     datetime(2011, 1, 8),\n",
    "     datetime(2011, 1, 10), \n",
    "     datetime(2011, 1, 12)\n",
    "]\n",
    "np.random.seed(42)\n",
    "ts = pd.Series(np.random.randn(6), index=dates)"
   ]
  },
  {
   "cell_type": "code",
   "execution_count": 5,
   "metadata": {},
   "outputs": [
    {
     "data": {
      "text/plain": [
       "2011-01-02    0.4967\n",
       "2011-01-05   -0.1383\n",
       "2011-01-07    0.6477\n",
       "2011-01-08    1.5230\n",
       "2011-01-10   -0.2342\n",
       "2011-01-12   -0.2341\n",
       "dtype: float64"
      ]
     },
     "execution_count": 5,
     "metadata": {},
     "output_type": "execute_result"
    }
   ],
   "source": [
    "ts"
   ]
  },
  {
   "cell_type": "markdown",
   "metadata": {},
   "source": [
    "Note that pandas converts the `datetime` objects to a pandas `DatetimeIndex` object and a single index value is a `Timestamp` object."
   ]
  },
  {
   "cell_type": "code",
   "execution_count": 6,
   "metadata": {
    "deletable": true,
    "editable": true,
    "tags": []
   },
   "outputs": [
    {
     "data": {
      "text/plain": [
       "DatetimeIndex(['2011-01-02', '2011-01-05', '2011-01-07', '2011-01-08',\n",
       "               '2011-01-10', '2011-01-12'],\n",
       "              dtype='datetime64[ns]', freq=None)"
      ]
     },
     "execution_count": 6,
     "metadata": {},
     "output_type": "execute_result"
    }
   ],
   "source": [
    "ts.index"
   ]
  },
  {
   "cell_type": "code",
   "execution_count": 7,
   "metadata": {},
   "outputs": [
    {
     "data": {
      "text/plain": [
       "Timestamp('2011-01-02 00:00:00')"
      ]
     },
     "execution_count": 7,
     "metadata": {},
     "output_type": "execute_result"
    }
   ],
   "source": [
    "ts.index[0]"
   ]
  },
  {
   "cell_type": "markdown",
   "metadata": {},
   "source": [
    "Recall that arithmetic operations between pandas objects automatically align on indexes."
   ]
  },
  {
   "cell_type": "code",
   "execution_count": 8,
   "metadata": {},
   "outputs": [
    {
     "data": {
      "text/plain": [
       "2011-01-02    0.4967\n",
       "2011-01-07    0.6477\n",
       "2011-01-10   -0.2342\n",
       "dtype: float64"
      ]
     },
     "execution_count": 8,
     "metadata": {},
     "output_type": "execute_result"
    }
   ],
   "source": [
    "ts[::2]"
   ]
  },
  {
   "cell_type": "code",
   "execution_count": 9,
   "metadata": {
    "collapsed": false,
    "deletable": true,
    "editable": true,
    "jupyter": {
     "outputs_hidden": false
    }
   },
   "outputs": [
    {
     "data": {
      "text/plain": [
       "2011-01-02    0.9934\n",
       "2011-01-05       NaN\n",
       "2011-01-07    1.2954\n",
       "2011-01-08       NaN\n",
       "2011-01-10   -0.4683\n",
       "2011-01-12       NaN\n",
       "dtype: float64"
      ]
     },
     "execution_count": 9,
     "metadata": {},
     "output_type": "execute_result"
    }
   ],
   "source": [
    "ts + ts[::2]"
   ]
  },
  {
   "cell_type": "markdown",
   "metadata": {
    "deletable": true,
    "editable": true
   },
   "source": [
    "## Indexing, Selection, Subsetting"
   ]
  },
  {
   "cell_type": "markdown",
   "metadata": {},
   "source": [
    "We can use date and time labels to select data."
   ]
  },
  {
   "cell_type": "code",
   "execution_count": 10,
   "metadata": {},
   "outputs": [],
   "source": [
    "stamp = ts.index[2]"
   ]
  },
  {
   "cell_type": "code",
   "execution_count": 11,
   "metadata": {},
   "outputs": [
    {
     "data": {
      "text/plain": [
       "Timestamp('2011-01-07 00:00:00')"
      ]
     },
     "execution_count": 11,
     "metadata": {},
     "output_type": "execute_result"
    }
   ],
   "source": [
    "stamp"
   ]
  },
  {
   "cell_type": "code",
   "execution_count": 12,
   "metadata": {
    "collapsed": false,
    "deletable": true,
    "editable": true,
    "jupyter": {
     "outputs_hidden": false
    }
   },
   "outputs": [
    {
     "data": {
      "text/plain": [
       "0.6476885381006925"
      ]
     },
     "execution_count": 12,
     "metadata": {},
     "output_type": "execute_result"
    }
   ],
   "source": [
    "ts[stamp]"
   ]
  },
  {
   "cell_type": "markdown",
   "metadata": {},
   "source": [
    "pandas can use unambiguous date strings to select data."
   ]
  },
  {
   "cell_type": "code",
   "execution_count": 13,
   "metadata": {
    "collapsed": false,
    "deletable": true,
    "editable": true,
    "jupyter": {
     "outputs_hidden": false
    }
   },
   "outputs": [
    {
     "data": {
      "text/plain": [
       "-0.23415337472333597"
      ]
     },
     "execution_count": 13,
     "metadata": {},
     "output_type": "execute_result"
    }
   ],
   "source": [
    "ts['1/10/2011'] # M/D/YYYY"
   ]
  },
  {
   "cell_type": "code",
   "execution_count": 14,
   "metadata": {},
   "outputs": [
    {
     "data": {
      "text/plain": [
       "-0.23415337472333597"
      ]
     },
     "execution_count": 14,
     "metadata": {},
     "output_type": "execute_result"
    }
   ],
   "source": [
    "ts['20110110'] # YYYYMMDD"
   ]
  },
  {
   "cell_type": "code",
   "execution_count": 15,
   "metadata": {},
   "outputs": [
    {
     "data": {
      "text/plain": [
       "-0.23415337472333597"
      ]
     },
     "execution_count": 15,
     "metadata": {},
     "output_type": "execute_result"
    }
   ],
   "source": [
    "ts['2011-01-10'] # YYYY-MM-DD"
   ]
  },
  {
   "cell_type": "code",
   "execution_count": 16,
   "metadata": {},
   "outputs": [
    {
     "data": {
      "text/plain": [
       "-0.23415337472333597"
      ]
     },
     "execution_count": 16,
     "metadata": {},
     "output_type": "execute_result"
    }
   ],
   "source": [
    "ts['10-Jan-2011'] # D-Mon-YYYY"
   ]
  },
  {
   "cell_type": "code",
   "execution_count": 17,
   "metadata": {},
   "outputs": [
    {
     "data": {
      "text/plain": [
       "-0.23415337472333597"
      ]
     },
     "execution_count": 17,
     "metadata": {},
     "output_type": "execute_result"
    }
   ],
   "source": [
    "ts['Jan-10-2011'] # Mon-D-YYYY"
   ]
  },
  {
   "cell_type": "markdown",
   "metadata": {},
   "source": [
    "Here is a longer time series for longer slices."
   ]
  },
  {
   "cell_type": "code",
   "execution_count": 18,
   "metadata": {
    "collapsed": false,
    "deletable": true,
    "editable": true,
    "jupyter": {
     "outputs_hidden": false
    }
   },
   "outputs": [],
   "source": [
    "np.random.seed(42)\n",
    "longer_ts = pd.Series(np.random.randn(1000), index=pd.date_range('1/1/2000', periods=1000))"
   ]
  },
  {
   "cell_type": "code",
   "execution_count": 19,
   "metadata": {},
   "outputs": [
    {
     "data": {
      "text/plain": [
       "2000-01-01    0.4967\n",
       "2000-01-02   -0.1383\n",
       "2000-01-03    0.6477\n",
       "2000-01-04    1.5230\n",
       "2000-01-05   -0.2342\n",
       "               ...  \n",
       "2002-09-22   -0.2811\n",
       "2002-09-23    1.7977\n",
       "2002-09-24    0.6408\n",
       "2002-09-25   -0.5712\n",
       "2002-09-26    0.5726\n",
       "Freq: D, Length: 1000, dtype: float64"
      ]
     },
     "execution_count": 19,
     "metadata": {},
     "output_type": "execute_result"
    }
   ],
   "source": [
    "longer_ts"
   ]
  },
  {
   "cell_type": "markdown",
   "metadata": {},
   "source": [
    "We can pass a year-month to slice all of the observations in May of 2001."
   ]
  },
  {
   "cell_type": "code",
   "execution_count": 20,
   "metadata": {
    "collapsed": false,
    "deletable": true,
    "editable": true,
    "jupyter": {
     "outputs_hidden": false
    }
   },
   "outputs": [
    {
     "data": {
      "text/plain": [
       "2001-05-01   -0.6466\n",
       "2001-05-02   -1.0815\n",
       "2001-05-03    1.6871\n",
       "2001-05-04    0.8816\n",
       "2001-05-05   -0.0080\n",
       "2001-05-06    1.4799\n",
       "2001-05-07    0.0774\n",
       "2001-05-08   -0.8613\n",
       "2001-05-09    1.5231\n",
       "2001-05-10    0.5389\n",
       "2001-05-11   -1.0372\n",
       "2001-05-12   -0.1903\n",
       "2001-05-13   -0.8756\n",
       "2001-05-14   -1.3828\n",
       "2001-05-15    0.9262\n",
       "2001-05-16    1.9094\n",
       "2001-05-17   -1.3986\n",
       "2001-05-18    0.5630\n",
       "2001-05-19   -0.6506\n",
       "2001-05-20   -0.4871\n",
       "2001-05-21   -0.5924\n",
       "2001-05-22   -0.8640\n",
       "2001-05-23    0.0485\n",
       "2001-05-24   -0.8310\n",
       "2001-05-25    0.2705\n",
       "2001-05-26   -0.0502\n",
       "2001-05-27   -0.2389\n",
       "2001-05-28   -0.9076\n",
       "2001-05-29   -0.5768\n",
       "2001-05-30    0.7554\n",
       "2001-05-31    0.5009\n",
       "Freq: D, dtype: float64"
      ]
     },
     "execution_count": 20,
     "metadata": {},
     "output_type": "execute_result"
    }
   ],
   "source": [
    "longer_ts['2001-05']"
   ]
  },
  {
   "cell_type": "markdown",
   "metadata": {},
   "source": [
    "We can also pass a year to slice all observations in 2001."
   ]
  },
  {
   "cell_type": "code",
   "execution_count": 21,
   "metadata": {},
   "outputs": [
    {
     "data": {
      "text/plain": [
       "2001-01-01    0.2241\n",
       "2001-01-02    0.0126\n",
       "2001-01-03    0.0977\n",
       "2001-01-04   -0.7730\n",
       "2001-01-05    0.0245\n",
       "               ...  \n",
       "2001-12-27    0.0184\n",
       "2001-12-28    0.3476\n",
       "2001-12-29   -0.5398\n",
       "2001-12-30   -0.7783\n",
       "2001-12-31    0.1958\n",
       "Freq: D, Length: 365, dtype: float64"
      ]
     },
     "execution_count": 21,
     "metadata": {},
     "output_type": "execute_result"
    }
   ],
   "source": [
    "longer_ts['2001']"
   ]
  },
  {
   "cell_type": "markdown",
   "metadata": {},
   "source": [
    "If we sort our data chronologically, we can also slice with a range of date strings."
   ]
  },
  {
   "cell_type": "code",
   "execution_count": 22,
   "metadata": {
    "collapsed": false,
    "deletable": true,
    "editable": true,
    "jupyter": {
     "outputs_hidden": false
    }
   },
   "outputs": [
    {
     "data": {
      "text/plain": [
       "2011-01-07    0.6477\n",
       "2011-01-08    1.5230\n",
       "2011-01-10   -0.2342\n",
       "dtype: float64"
      ]
     },
     "execution_count": 22,
     "metadata": {},
     "output_type": "execute_result"
    }
   ],
   "source": [
    "ts['1/6/2011':'1/11/2011']"
   ]
  },
  {
   "cell_type": "markdown",
   "metadata": {},
   "source": [
    "To use date slices, our data should be sorted by the date index, as above.\n",
    "The following code works as though our data were sorted, but raises a warning that it will not work in future versions."
   ]
  },
  {
   "cell_type": "code",
   "execution_count": 23,
   "metadata": {},
   "outputs": [],
   "source": [
    "ts2 = ts.sort_values()"
   ]
  },
  {
   "cell_type": "code",
   "execution_count": 24,
   "metadata": {},
   "outputs": [
    {
     "data": {
      "text/plain": [
       "2011-01-10   -0.2342\n",
       "2011-01-12   -0.2341\n",
       "2011-01-05   -0.1383\n",
       "2011-01-02    0.4967\n",
       "2011-01-07    0.6477\n",
       "2011-01-08    1.5230\n",
       "dtype: float64"
      ]
     },
     "execution_count": 24,
     "metadata": {},
     "output_type": "execute_result"
    }
   ],
   "source": [
    "ts2"
   ]
  },
  {
   "cell_type": "code",
   "execution_count": 25,
   "metadata": {},
   "outputs": [
    {
     "name": "stderr",
     "output_type": "stream",
     "text": [
      "/tmp/ipykernel_32376/386136989.py:1: FutureWarning: Value based partial slicing on non-monotonic DatetimeIndexes with non-existing keys is deprecated and will raise a KeyError in a future Version.\n",
      "  ts2['1/6/2011':'1/11/2011']\n"
     ]
    },
    {
     "data": {
      "text/plain": [
       "2011-01-10   -0.2342\n",
       "2011-01-07    0.6477\n",
       "2011-01-08    1.5230\n",
       "dtype: float64"
      ]
     },
     "execution_count": 25,
     "metadata": {},
     "output_type": "execute_result"
    }
   ],
   "source": [
    "ts2['1/6/2011':'1/11/2011']\n",
    "# <ipython-input-33-eb55134ff07e>:1: FutureWarning: Value based partial slicing on non-monotonic DatetimeIndexes with non-existing keys is deprecated and will raise a KeyError in a future Version.\n",
    "#   ts2['1/6/2011':'1/11/2011']\n"
   ]
  },
  {
   "cell_type": "code",
   "execution_count": 26,
   "metadata": {},
   "outputs": [
    {
     "data": {
      "text/plain": [
       "2011-01-07    0.6477\n",
       "2011-01-08    1.5230\n",
       "2011-01-10   -0.2342\n",
       "dtype: float64"
      ]
     },
     "execution_count": 26,
     "metadata": {},
     "output_type": "execute_result"
    }
   ],
   "source": [
    "ts2.sort_index()['1/6/2011':'1/11/2011']"
   ]
  },
  {
   "cell_type": "markdown",
   "metadata": {},
   "source": [
    "***To be clear, a range of date strings is inclusive on both ends.***"
   ]
  },
  {
   "cell_type": "code",
   "execution_count": 27,
   "metadata": {},
   "outputs": [
    {
     "data": {
      "text/plain": [
       "2001-01-06    0.4980\n",
       "2001-01-07    1.4511\n",
       "2001-01-08    0.9593\n",
       "2001-01-09    2.1532\n",
       "2001-01-10   -0.7673\n",
       "2001-01-11    0.8723\n",
       "Freq: D, dtype: float64"
      ]
     },
     "execution_count": 27,
     "metadata": {},
     "output_type": "execute_result"
    }
   ],
   "source": [
    "longer_ts['1/6/2001':'1/11/2001']"
   ]
  },
  {
   "cell_type": "markdown",
   "metadata": {},
   "source": [
    "***Recall, if we modify a slice, we modify the original series or dataframe.***\n",
    "\n",
    "> Remember that slicing in this manner produces views on the source time series like slicing NumPy arrays. This means that no data is copied and modifications on the slice will be reflected in the original data."
   ]
  },
  {
   "cell_type": "markdown",
   "metadata": {
    "deletable": true,
    "editable": true
   },
   "source": [
    "## Time Series with Duplicate Indices"
   ]
  },
  {
   "cell_type": "markdown",
   "metadata": {},
   "source": [
    "Most data in this course will be well-formed with one observation per datetime for series or one observation per individual per datetime for dataframes.\n",
    "However, you may later receive poorly-formed data with duplicate observations.\n",
    "The toy data in series `dup_ts` has three observations on February 2nd."
   ]
  },
  {
   "cell_type": "code",
   "execution_count": 28,
   "metadata": {
    "collapsed": false,
    "deletable": true,
    "editable": true,
    "jupyter": {
     "outputs_hidden": false
    }
   },
   "outputs": [],
   "source": [
    "dates = pd.DatetimeIndex(['1/1/2000', '1/2/2000', '1/2/2000', '1/2/2000', '1/3/2000'])\n",
    "dup_ts = pd.Series(np.arange(5), index=dates)"
   ]
  },
  {
   "cell_type": "code",
   "execution_count": 29,
   "metadata": {},
   "outputs": [
    {
     "data": {
      "text/plain": [
       "2000-01-01    0\n",
       "2000-01-02    1\n",
       "2000-01-02    2\n",
       "2000-01-02    3\n",
       "2000-01-03    4\n",
       "dtype: int64"
      ]
     },
     "execution_count": 29,
     "metadata": {},
     "output_type": "execute_result"
    }
   ],
   "source": [
    "dup_ts"
   ]
  },
  {
   "cell_type": "markdown",
   "metadata": {},
   "source": [
    "The `.is_unique` property tells us if an index is unique."
   ]
  },
  {
   "cell_type": "code",
   "execution_count": 30,
   "metadata": {
    "collapsed": false,
    "deletable": true,
    "editable": true,
    "jupyter": {
     "outputs_hidden": false
    }
   },
   "outputs": [
    {
     "data": {
      "text/plain": [
       "False"
      ]
     },
     "execution_count": 30,
     "metadata": {},
     "output_type": "execute_result"
    }
   ],
   "source": [
    "dup_ts.index.is_unique"
   ]
  },
  {
   "cell_type": "code",
   "execution_count": 31,
   "metadata": {
    "collapsed": false,
    "deletable": true,
    "editable": true,
    "jupyter": {
     "outputs_hidden": false
    }
   },
   "outputs": [
    {
     "data": {
      "text/plain": [
       "4"
      ]
     },
     "execution_count": 31,
     "metadata": {},
     "output_type": "execute_result"
    }
   ],
   "source": [
    "dup_ts['1/3/2000']  # not duplicated"
   ]
  },
  {
   "cell_type": "code",
   "execution_count": 32,
   "metadata": {},
   "outputs": [
    {
     "data": {
      "text/plain": [
       "2000-01-02    1\n",
       "2000-01-02    2\n",
       "2000-01-02    3\n",
       "dtype: int64"
      ]
     },
     "execution_count": 32,
     "metadata": {},
     "output_type": "execute_result"
    }
   ],
   "source": [
    "dup_ts['1/2/2000']  # duplicated"
   ]
  },
  {
   "cell_type": "markdown",
   "metadata": {},
   "source": [
    "The solution to duplicate data depends on the context.\n",
    "For example, we may want the mean of all observations on a given date.\n",
    "The `.groupby()`  method can help us here."
   ]
  },
  {
   "cell_type": "code",
   "execution_count": 33,
   "metadata": {
    "collapsed": false,
    "deletable": true,
    "editable": true,
    "jupyter": {
     "outputs_hidden": false
    }
   },
   "outputs": [],
   "source": [
    "grouped = dup_ts.groupby(level=0)"
   ]
  },
  {
   "cell_type": "code",
   "execution_count": 34,
   "metadata": {},
   "outputs": [
    {
     "data": {
      "text/plain": [
       "2000-01-01   0.0000\n",
       "2000-01-02   2.0000\n",
       "2000-01-03   4.0000\n",
       "dtype: float64"
      ]
     },
     "execution_count": 34,
     "metadata": {},
     "output_type": "execute_result"
    }
   ],
   "source": [
    "grouped.mean()"
   ]
  },
  {
   "cell_type": "code",
   "execution_count": 35,
   "metadata": {},
   "outputs": [
    {
     "data": {
      "text/plain": [
       "2000-01-01    0\n",
       "2000-01-02    3\n",
       "2000-01-03    4\n",
       "dtype: int64"
      ]
     },
     "execution_count": 35,
     "metadata": {},
     "output_type": "execute_result"
    }
   ],
   "source": [
    "grouped.last()"
   ]
  },
  {
   "cell_type": "markdown",
   "metadata": {},
   "source": [
    "Or we may want the number of observations on each date."
   ]
  },
  {
   "cell_type": "code",
   "execution_count": 36,
   "metadata": {},
   "outputs": [
    {
     "data": {
      "text/plain": [
       "2000-01-01    1\n",
       "2000-01-02    3\n",
       "2000-01-03    1\n",
       "dtype: int64"
      ]
     },
     "execution_count": 36,
     "metadata": {},
     "output_type": "execute_result"
    }
   ],
   "source": [
    "grouped.count()"
   ]
  },
  {
   "cell_type": "markdown",
   "metadata": {},
   "source": [
    "---"
   ]
  },
  {
   "cell_type": "markdown",
   "metadata": {},
   "source": [
    "***Practice:***\n",
    "Keep only the first observation for each date in `dup_ts`.\n",
    "Keep only the largest observation for each date in `dup_ts`.\n",
    "Also try the `.drop_duplicates()` method"
   ]
  },
  {
   "cell_type": "markdown",
   "metadata": {},
   "source": [
    "Keep the first observation:"
   ]
  },
  {
   "cell_type": "code",
   "execution_count": 37,
   "metadata": {},
   "outputs": [
    {
     "data": {
      "text/plain": [
       "2000-01-01    0\n",
       "2000-01-02    1\n",
       "2000-01-03    4\n",
       "dtype: int64"
      ]
     },
     "execution_count": 37,
     "metadata": {},
     "output_type": "execute_result"
    }
   ],
   "source": [
    "dup_ts.groupby(level=0).first()"
   ]
  },
  {
   "cell_type": "markdown",
   "metadata": {},
   "source": [
    "Keep the largest observations:"
   ]
  },
  {
   "cell_type": "code",
   "execution_count": 38,
   "metadata": {},
   "outputs": [
    {
     "data": {
      "text/plain": [
       "2000-01-01    0\n",
       "2000-01-02    3\n",
       "2000-01-03    4\n",
       "dtype: int64"
      ]
     },
     "execution_count": 38,
     "metadata": {},
     "output_type": "execute_result"
    }
   ],
   "source": [
    "dup_ts.groupby(level=0).max()"
   ]
  },
  {
   "cell_type": "markdown",
   "metadata": {},
   "source": [
    "We cannot use `.drop_duplciates()` here, but it is still handy.\n",
    "We use `.drop_duplicates()` to find duplicate values, not indexes."
   ]
  },
  {
   "cell_type": "code",
   "execution_count": 39,
   "metadata": {},
   "outputs": [
    {
     "data": {
      "text/plain": [
       "DatetimeIndex(['2000-01-01', '2000-01-02', '2000-01-03'], dtype='datetime64[ns]', freq=None)"
      ]
     },
     "execution_count": 39,
     "metadata": {},
     "output_type": "execute_result"
    }
   ],
   "source": [
    "dup_ts.index.drop_duplicates()"
   ]
  },
  {
   "cell_type": "markdown",
   "metadata": {},
   "source": [
    "---"
   ]
  },
  {
   "cell_type": "markdown",
   "metadata": {
    "deletable": true,
    "editable": true,
    "tags": []
   },
   "source": [
    "# Date Ranges, Frequencies, and Shifting"
   ]
  },
  {
   "cell_type": "markdown",
   "metadata": {},
   "source": [
    "> Generic time series in pandas are assumed to be irregular; that is, they have no fixed frequency. For many applications this is sufficient. However, it’s often desirable to work relative to a fixed frequency, such as daily, monthly, or every 15 minutes, even if that means introducing missing values into a time series. Fortunately pandas has a full suite of standard time series frequencies and tools for resampling, inferring frequencies, and generating fixed-frequency date ranges."
   ]
  },
  {
   "cell_type": "markdown",
   "metadata": {
    "deletable": true,
    "editable": true
   },
   "source": [
    "## Generating Date Ranges"
   ]
  },
  {
   "cell_type": "markdown",
   "metadata": {},
   "source": [
    "pandas makes it easy to generate date ranges.\n",
    "If we pass a start and end date, `pandas.date_range()` assumes daily frequency:\n",
    "\n",
    "> freq : str or DateOffset, default 'D'"
   ]
  },
  {
   "cell_type": "code",
   "execution_count": 40,
   "metadata": {
    "collapsed": false,
    "deletable": true,
    "editable": true,
    "jupyter": {
     "outputs_hidden": false
    }
   },
   "outputs": [],
   "source": [
    "index = pd.date_range('2012-04-01', '2012-06-01')"
   ]
  },
  {
   "cell_type": "code",
   "execution_count": 41,
   "metadata": {},
   "outputs": [
    {
     "data": {
      "text/plain": [
       "DatetimeIndex(['2012-04-01', '2012-04-02', '2012-04-03', '2012-04-04',\n",
       "               '2012-04-05', '2012-04-06', '2012-04-07', '2012-04-08',\n",
       "               '2012-04-09', '2012-04-10', '2012-04-11', '2012-04-12',\n",
       "               '2012-04-13', '2012-04-14', '2012-04-15', '2012-04-16',\n",
       "               '2012-04-17', '2012-04-18', '2012-04-19', '2012-04-20',\n",
       "               '2012-04-21', '2012-04-22', '2012-04-23', '2012-04-24',\n",
       "               '2012-04-25', '2012-04-26', '2012-04-27', '2012-04-28',\n",
       "               '2012-04-29', '2012-04-30', '2012-05-01', '2012-05-02',\n",
       "               '2012-05-03', '2012-05-04', '2012-05-05', '2012-05-06',\n",
       "               '2012-05-07', '2012-05-08', '2012-05-09', '2012-05-10',\n",
       "               '2012-05-11', '2012-05-12', '2012-05-13', '2012-05-14',\n",
       "               '2012-05-15', '2012-05-16', '2012-05-17', '2012-05-18',\n",
       "               '2012-05-19', '2012-05-20', '2012-05-21', '2012-05-22',\n",
       "               '2012-05-23', '2012-05-24', '2012-05-25', '2012-05-26',\n",
       "               '2012-05-27', '2012-05-28', '2012-05-29', '2012-05-30',\n",
       "               '2012-05-31', '2012-06-01'],\n",
       "              dtype='datetime64[ns]', freq='D')"
      ]
     },
     "execution_count": 41,
     "metadata": {},
     "output_type": "execute_result"
    }
   ],
   "source": [
    "index"
   ]
  },
  {
   "cell_type": "markdown",
   "metadata": {},
   "source": [
    "If we specify only a start or end date, we must specify the number of periods."
   ]
  },
  {
   "cell_type": "code",
   "execution_count": 42,
   "metadata": {
    "collapsed": false,
    "deletable": true,
    "editable": true,
    "jupyter": {
     "outputs_hidden": false
    }
   },
   "outputs": [
    {
     "data": {
      "text/plain": [
       "DatetimeIndex(['2012-04-01', '2012-04-02', '2012-04-03', '2012-04-04',\n",
       "               '2012-04-05', '2012-04-06', '2012-04-07', '2012-04-08',\n",
       "               '2012-04-09', '2012-04-10', '2012-04-11', '2012-04-12',\n",
       "               '2012-04-13', '2012-04-14', '2012-04-15', '2012-04-16',\n",
       "               '2012-04-17', '2012-04-18', '2012-04-19', '2012-04-20'],\n",
       "              dtype='datetime64[ns]', freq='D')"
      ]
     },
     "execution_count": 42,
     "metadata": {},
     "output_type": "execute_result"
    }
   ],
   "source": [
    "pd.date_range(start='2012-04-01', periods=20)"
   ]
  },
  {
   "cell_type": "code",
   "execution_count": 43,
   "metadata": {},
   "outputs": [
    {
     "data": {
      "text/plain": [
       "DatetimeIndex(['2012-05-13', '2012-05-14', '2012-05-15', '2012-05-16',\n",
       "               '2012-05-17', '2012-05-18', '2012-05-19', '2012-05-20',\n",
       "               '2012-05-21', '2012-05-22', '2012-05-23', '2012-05-24',\n",
       "               '2012-05-25', '2012-05-26', '2012-05-27', '2012-05-28',\n",
       "               '2012-05-29', '2012-05-30', '2012-05-31', '2012-06-01'],\n",
       "              dtype='datetime64[ns]', freq='D')"
      ]
     },
     "execution_count": 43,
     "metadata": {},
     "output_type": "execute_result"
    }
   ],
   "source": [
    "pd.date_range(end='2012-06-01', periods=20)"
   ]
  },
  {
   "cell_type": "markdown",
   "metadata": {},
   "source": [
    "pandas provides many frequencies.\n",
    "Here we use `freq = 'BM'` to get the last business day in each month."
   ]
  },
  {
   "cell_type": "code",
   "execution_count": 44,
   "metadata": {
    "collapsed": false,
    "deletable": true,
    "editable": true,
    "jupyter": {
     "outputs_hidden": false
    }
   },
   "outputs": [
    {
     "data": {
      "text/plain": [
       "DatetimeIndex(['2000-01-31', '2000-02-29', '2000-03-31', '2000-04-28',\n",
       "               '2000-05-31', '2000-06-30', '2000-07-31', '2000-08-31',\n",
       "               '2000-09-29', '2000-10-31', '2000-11-30'],\n",
       "              dtype='datetime64[ns]', freq='BM')"
      ]
     },
     "execution_count": 44,
     "metadata": {},
     "output_type": "execute_result"
    }
   ],
   "source": [
    "pd.date_range('2000-01-01', '2000-12-01', freq='BM') # here \"BM\" is business month (end)"
   ]
  },
  {
   "cell_type": "markdown",
   "metadata": {},
   "source": [
    "Or `freq = '5D'` to get every fifth day."
   ]
  },
  {
   "cell_type": "code",
   "execution_count": 45,
   "metadata": {
    "tags": []
   },
   "outputs": [
    {
     "data": {
      "text/plain": [
       "DatetimeIndex(['2000-01-01', '2000-01-06', '2000-01-11', '2000-01-16',\n",
       "               '2000-01-21', '2000-01-26', '2000-01-31', '2000-02-05',\n",
       "               '2000-02-10', '2000-02-15', '2000-02-20', '2000-02-25',\n",
       "               '2000-03-01', '2000-03-06', '2000-03-11', '2000-03-16',\n",
       "               '2000-03-21', '2000-03-26', '2000-03-31', '2000-04-05',\n",
       "               '2000-04-10', '2000-04-15', '2000-04-20', '2000-04-25',\n",
       "               '2000-04-30', '2000-05-05', '2000-05-10', '2000-05-15',\n",
       "               '2000-05-20', '2000-05-25', '2000-05-30', '2000-06-04',\n",
       "               '2000-06-09', '2000-06-14', '2000-06-19', '2000-06-24',\n",
       "               '2000-06-29', '2000-07-04', '2000-07-09', '2000-07-14',\n",
       "               '2000-07-19', '2000-07-24', '2000-07-29', '2000-08-03',\n",
       "               '2000-08-08', '2000-08-13', '2000-08-18', '2000-08-23',\n",
       "               '2000-08-28', '2000-09-02', '2000-09-07', '2000-09-12',\n",
       "               '2000-09-17', '2000-09-22', '2000-09-27', '2000-10-02',\n",
       "               '2000-10-07', '2000-10-12', '2000-10-17', '2000-10-22',\n",
       "               '2000-10-27', '2000-11-01', '2000-11-06', '2000-11-11',\n",
       "               '2000-11-16', '2000-11-21', '2000-11-26', '2000-12-01'],\n",
       "              dtype='datetime64[ns]', freq='5D')"
      ]
     },
     "execution_count": 45,
     "metadata": {},
     "output_type": "execute_result"
    }
   ],
   "source": [
    "pd.date_range('2000-01-01', '2000-12-01', freq='5D')"
   ]
  },
  {
   "cell_type": "code",
   "execution_count": 46,
   "metadata": {
    "tags": []
   },
   "outputs": [
    {
     "data": {
      "text/plain": [
       "DatetimeIndex(['2000-01-31', '2000-03-31', '2000-05-31', '2000-07-31',\n",
       "               '2000-09-29', '2000-11-30'],\n",
       "              dtype='datetime64[ns]', freq='2BM')"
      ]
     },
     "execution_count": 46,
     "metadata": {},
     "output_type": "execute_result"
    }
   ],
   "source": [
    "pd.date_range('2000-01-01', '2000-12-01', freq='2BM')"
   ]
  },
  {
   "cell_type": "code",
   "execution_count": 47,
   "metadata": {
    "tags": []
   },
   "outputs": [
    {
     "data": {
      "text/plain": [
       "DatetimeIndex(['2000-01-02', '2000-01-16', '2000-01-30', '2000-02-13',\n",
       "               '2000-02-27', '2000-03-12', '2000-03-26', '2000-04-09',\n",
       "               '2000-04-23', '2000-05-07', '2000-05-21', '2000-06-04',\n",
       "               '2000-06-18', '2000-07-02', '2000-07-16', '2000-07-30',\n",
       "               '2000-08-13', '2000-08-27', '2000-09-10', '2000-09-24',\n",
       "               '2000-10-08', '2000-10-22', '2000-11-05', '2000-11-19'],\n",
       "              dtype='datetime64[ns]', freq='2W-SUN')"
      ]
     },
     "execution_count": 47,
     "metadata": {},
     "output_type": "execute_result"
    }
   ],
   "source": [
    "pd.date_range('2000-01-01', '2000-12-01', freq='2W') # every 2nd week"
   ]
  },
  {
   "cell_type": "code",
   "execution_count": 48,
   "metadata": {
    "tags": []
   },
   "outputs": [
    {
     "data": {
      "text/plain": [
       "DatetimeIndex(['2000-01-01', '2000-03-01', '2000-05-01', '2000-07-01',\n",
       "               '2000-09-01', '2000-11-01'],\n",
       "              dtype='datetime64[ns]', freq='2MS')"
      ]
     },
     "execution_count": 48,
     "metadata": {},
     "output_type": "execute_result"
    }
   ],
   "source": [
    "pd.date_range('2000-01-01', '2000-12-01', freq='2MS') # start (S) of every 2nd month (2M)"
   ]
  },
  {
   "cell_type": "markdown",
   "metadata": {},
   "source": [
    "***Table 11-4*** summarizes the time series frequencies, which are linked to in the `pandas.date_range()` docstring.\n",
    "***Table 11-4*** is too long to replicate, but is only one click away in the `pandas.date_range()` docstring."
   ]
  },
  {
   "cell_type": "markdown",
   "metadata": {
    "deletable": true,
    "editable": true
   },
   "source": [
    "## Frequencies and Date Offsets"
   ]
  },
  {
   "cell_type": "markdown",
   "metadata": {},
   "source": [
    ">Frequencies in pandas are composed of a base frequency and a multiplier. Base frequencies are typically referred to by a string alias, like 'M' for monthly or 'H' for hourly. For each base frequency, there is an object defined generally referred to as a date offset."
   ]
  },
  {
   "cell_type": "code",
   "execution_count": 49,
   "metadata": {
    "collapsed": false,
    "deletable": true,
    "editable": true,
    "jupyter": {
     "outputs_hidden": false
    }
   },
   "outputs": [
    {
     "data": {
      "text/plain": [
       "DatetimeIndex(['2000-01-01 00:00:00', '2000-01-01 04:00:00',\n",
       "               '2000-01-01 08:00:00', '2000-01-01 12:00:00',\n",
       "               '2000-01-01 16:00:00', '2000-01-01 20:00:00',\n",
       "               '2000-01-02 00:00:00', '2000-01-02 04:00:00',\n",
       "               '2000-01-02 08:00:00', '2000-01-02 12:00:00',\n",
       "               '2000-01-02 16:00:00', '2000-01-02 20:00:00',\n",
       "               '2000-01-03 00:00:00', '2000-01-03 04:00:00',\n",
       "               '2000-01-03 08:00:00', '2000-01-03 12:00:00',\n",
       "               '2000-01-03 16:00:00', '2000-01-03 20:00:00'],\n",
       "              dtype='datetime64[ns]', freq='4H')"
      ]
     },
     "execution_count": 49,
     "metadata": {},
     "output_type": "execute_result"
    }
   ],
   "source": [
    "pd.date_range('2000-01-01', '2000-01-03 23:59', freq='4h')"
   ]
  },
  {
   "cell_type": "code",
   "execution_count": 50,
   "metadata": {
    "deletable": true,
    "editable": true,
    "tags": []
   },
   "outputs": [
    {
     "data": {
      "text/plain": [
       "DatetimeIndex(['2000-01-01 00:00:00', '2000-01-01 01:30:00',\n",
       "               '2000-01-01 03:00:00', '2000-01-01 04:30:00',\n",
       "               '2000-01-01 06:00:00', '2000-01-01 07:30:00',\n",
       "               '2000-01-01 09:00:00', '2000-01-01 10:30:00',\n",
       "               '2000-01-01 12:00:00', '2000-01-01 13:30:00'],\n",
       "              dtype='datetime64[ns]', freq='90T')"
      ]
     },
     "execution_count": 50,
     "metadata": {},
     "output_type": "execute_result"
    }
   ],
   "source": [
    "pd.date_range('2000-01-01', periods=10, freq='1h30min')"
   ]
  },
  {
   "cell_type": "markdown",
   "metadata": {
    "deletable": true,
    "editable": true
   },
   "source": [
    "## Shifting (Leading and Lagging) Data"
   ]
  },
  {
   "cell_type": "markdown",
   "metadata": {},
   "source": [
    "***Shifting is an important feature!***\n",
    "Shifting is moving data backward (or forward) through time."
   ]
  },
  {
   "cell_type": "code",
   "execution_count": 51,
   "metadata": {
    "collapsed": false,
    "deletable": true,
    "editable": true,
    "jupyter": {
     "outputs_hidden": false
    }
   },
   "outputs": [],
   "source": [
    "np.random.seed(42)\n",
    "ts = pd.Series(np.random.randn(4), index=pd.date_range('1/1/2000', periods=4, freq='M'))"
   ]
  },
  {
   "cell_type": "code",
   "execution_count": 52,
   "metadata": {},
   "outputs": [
    {
     "data": {
      "text/plain": [
       "2000-01-31    0.4967\n",
       "2000-02-29   -0.1383\n",
       "2000-03-31    0.6477\n",
       "2000-04-30    1.5230\n",
       "Freq: M, dtype: float64"
      ]
     },
     "execution_count": 52,
     "metadata": {},
     "output_type": "execute_result"
    }
   ],
   "source": [
    "ts"
   ]
  },
  {
   "cell_type": "markdown",
   "metadata": {},
   "source": [
    "If we pass a positive integer $N$ to the `.shift()` method:\n",
    "\n",
    "1. The date index remains the same\n",
    "2. Values are shifted down $N$ observations\n",
    "\n",
    "\"Lag\" might be a better name than \"shift\" since a postive 2 makes the value at any timestamp the value from 2 timestamps above (earlier, since most time-series data are chronological)."
   ]
  },
  {
   "cell_type": "code",
   "execution_count": 53,
   "metadata": {},
   "outputs": [
    {
     "data": {
      "text/plain": [
       "2000-01-31       NaN\n",
       "2000-02-29    0.4967\n",
       "2000-03-31   -0.1383\n",
       "2000-04-30    0.6477\n",
       "Freq: M, dtype: float64"
      ]
     },
     "execution_count": 53,
     "metadata": {},
     "output_type": "execute_result"
    }
   ],
   "source": [
    "ts.shift() # if we do not specify \"periods\", pandas assumes 1"
   ]
  },
  {
   "cell_type": "code",
   "execution_count": 54,
   "metadata": {},
   "outputs": [
    {
     "data": {
      "text/plain": [
       "2000-01-31       NaN\n",
       "2000-02-29       NaN\n",
       "2000-03-31    0.4967\n",
       "2000-04-30   -0.1383\n",
       "Freq: M, dtype: float64"
      ]
     },
     "execution_count": 54,
     "metadata": {},
     "output_type": "execute_result"
    }
   ],
   "source": [
    "ts.shift(2)"
   ]
  },
  {
   "cell_type": "markdown",
   "metadata": {},
   "source": [
    "If we pass a _negative_ integer $N$ to the `.shift()` method, values are shifted _up_ $N$ observations."
   ]
  },
  {
   "cell_type": "code",
   "execution_count": 55,
   "metadata": {},
   "outputs": [
    {
     "data": {
      "text/plain": [
       "2000-01-31   0.6477\n",
       "2000-02-29   1.5230\n",
       "2000-03-31      NaN\n",
       "2000-04-30      NaN\n",
       "Freq: M, dtype: float64"
      ]
     },
     "execution_count": 55,
     "metadata": {},
     "output_type": "execute_result"
    }
   ],
   "source": [
    "ts.shift(-2)"
   ]
  },
  {
   "cell_type": "markdown",
   "metadata": {},
   "source": [
    "We will almost never shift with negative values (i.e., we will almost never bring forward values from the future) to prevent look-ahead bias.\n",
    "We do not want to assume that financial market participants have access to future data.\n",
    "Our most common shift will be to compute the percent change from one period to the next.\n",
    "We can calculate the percent change two ways."
   ]
  },
  {
   "cell_type": "code",
   "execution_count": 56,
   "metadata": {},
   "outputs": [
    {
     "data": {
      "text/plain": [
       "2000-01-31       NaN\n",
       "2000-02-29   -1.2784\n",
       "2000-03-31   -5.6844\n",
       "2000-04-30    1.3515\n",
       "Freq: M, dtype: float64"
      ]
     },
     "execution_count": 56,
     "metadata": {},
     "output_type": "execute_result"
    }
   ],
   "source": [
    "ts.pct_change()"
   ]
  },
  {
   "cell_type": "markdown",
   "metadata": {},
   "source": [
    "Two observations on the percent change calculations above:\n",
    "\n",
    "1. The first percent change is NaN (missing) because there is no previous value to change from\n",
    "2. The default `periods` argument for `.shift()`  and `.pct_change()` is 1"
   ]
  },
  {
   "cell_type": "markdown",
   "metadata": {},
   "source": [
    "The naive shift examples above shift by a number of observations, without considering timestamps or their frequencies.\n",
    "As a result, timestamps are unchanged and values shift down (positive `periods` argument) or up (negative `periods` argument).\n",
    "However, we can also pass the `freq` argument to respect the timestamps.\n",
    "With the `freq` argument, timestamps shift by a multiple (specified by the `periods` argument) of datetime intervals (specified by the `freq` argument).\n",
    "Note that the examples below generate new datetime indexes."
   ]
  },
  {
   "cell_type": "code",
   "execution_count": 57,
   "metadata": {
    "collapsed": false,
    "deletable": true,
    "editable": true,
    "jupyter": {
     "outputs_hidden": false
    }
   },
   "outputs": [
    {
     "data": {
      "text/plain": [
       "2000-03-31    0.4967\n",
       "2000-04-30   -0.1383\n",
       "2000-05-31    0.6477\n",
       "2000-06-30    1.5230\n",
       "Freq: M, dtype: float64"
      ]
     },
     "execution_count": 57,
     "metadata": {},
     "output_type": "execute_result"
    }
   ],
   "source": [
    "ts.shift(2, freq='M')"
   ]
  },
  {
   "cell_type": "code",
   "execution_count": 58,
   "metadata": {
    "collapsed": false,
    "deletable": true,
    "editable": true,
    "jupyter": {
     "outputs_hidden": false
    }
   },
   "outputs": [
    {
     "data": {
      "text/plain": [
       "2000-02-03    0.4967\n",
       "2000-03-03   -0.1383\n",
       "2000-04-03    0.6477\n",
       "2000-05-03    1.5230\n",
       "dtype: float64"
      ]
     },
     "execution_count": 58,
     "metadata": {},
     "output_type": "execute_result"
    }
   ],
   "source": [
    "ts.shift(3, freq='D')"
   ]
  },
  {
   "cell_type": "markdown",
   "metadata": {},
   "source": [
    "`M` was already months, so `T` is minutes."
   ]
  },
  {
   "cell_type": "code",
   "execution_count": 59,
   "metadata": {},
   "outputs": [
    {
     "data": {
      "text/plain": [
       "2000-01-31 01:30:00    0.4967\n",
       "2000-02-29 01:30:00   -0.1383\n",
       "2000-03-31 01:30:00    0.6477\n",
       "2000-04-30 01:30:00    1.5230\n",
       "dtype: float64"
      ]
     },
     "execution_count": 59,
     "metadata": {},
     "output_type": "execute_result"
    }
   ],
   "source": [
    "ts.shift(1, freq='90T')"
   ]
  },
  {
   "cell_type": "markdown",
   "metadata": {},
   "source": [
    "---"
   ]
  },
  {
   "cell_type": "markdown",
   "metadata": {},
   "source": [
    "***Practice:***\n",
    "Download daily data market data for TSLA and add daily returns as column named `Return`.\n",
    "The add the 1 trading lag of `Return` as a column named `Return_lag1`."
   ]
  },
  {
   "cell_type": "code",
   "execution_count": 60,
   "metadata": {},
   "outputs": [
    {
     "name": "stdout",
     "output_type": "stream",
     "text": [
      "[*********************100%***********************]  1 of 1 completed\n"
     ]
    }
   ],
   "source": [
    "tsla = yf.download(tickers='TSLA', session=session)"
   ]
  },
  {
   "cell_type": "code",
   "execution_count": 61,
   "metadata": {},
   "outputs": [],
   "source": [
    "tsla['Return'] = tsla['Adj Close'].pct_change()"
   ]
  },
  {
   "cell_type": "code",
   "execution_count": 62,
   "metadata": {},
   "outputs": [],
   "source": [
    "tsla['Return_lag1'] = tsla['Return'].shift(1)"
   ]
  },
  {
   "cell_type": "markdown",
   "metadata": {},
   "source": [
    "Be careful shifting with `freq=` because it may shift into days/months/etc without data.\n",
    "Here `freq='B'` shifts by business days, but still fails because Monday 7/5/2010 is a business day, but markets were closed for the 4th of July.\n",
    "The problem is worse if we shift all days with `freq='D'`.\n",
    "See below."
   ]
  },
  {
   "cell_type": "code",
   "execution_count": 63,
   "metadata": {},
   "outputs": [
    {
     "data": {
      "text/html": [
       "<div>\n",
       "<style scoped>\n",
       "    .dataframe tbody tr th:only-of-type {\n",
       "        vertical-align: middle;\n",
       "    }\n",
       "\n",
       "    .dataframe tbody tr th {\n",
       "        vertical-align: top;\n",
       "    }\n",
       "\n",
       "    .dataframe thead th {\n",
       "        text-align: right;\n",
       "    }\n",
       "</style>\n",
       "<table border=\"1\" class=\"dataframe\">\n",
       "  <thead>\n",
       "    <tr style=\"text-align: right;\">\n",
       "      <th></th>\n",
       "      <th>Open</th>\n",
       "      <th>High</th>\n",
       "      <th>Low</th>\n",
       "      <th>Close</th>\n",
       "      <th>Adj Close</th>\n",
       "      <th>Volume</th>\n",
       "      <th>Return</th>\n",
       "      <th>Return_lag1</th>\n",
       "      <th>Return_lag1_alt</th>\n",
       "    </tr>\n",
       "    <tr>\n",
       "      <th>Date</th>\n",
       "      <th></th>\n",
       "      <th></th>\n",
       "      <th></th>\n",
       "      <th></th>\n",
       "      <th></th>\n",
       "      <th></th>\n",
       "      <th></th>\n",
       "      <th></th>\n",
       "      <th></th>\n",
       "    </tr>\n",
       "  </thead>\n",
       "  <tbody>\n",
       "    <tr>\n",
       "      <th>2010-06-29</th>\n",
       "      <td>3.8000</td>\n",
       "      <td>5.0000</td>\n",
       "      <td>3.5080</td>\n",
       "      <td>4.7780</td>\n",
       "      <td>4.7780</td>\n",
       "      <td>93831500</td>\n",
       "      <td>NaN</td>\n",
       "      <td>NaN</td>\n",
       "      <td>NaN</td>\n",
       "    </tr>\n",
       "    <tr>\n",
       "      <th>2010-06-30</th>\n",
       "      <td>5.1580</td>\n",
       "      <td>6.0840</td>\n",
       "      <td>4.6600</td>\n",
       "      <td>4.7660</td>\n",
       "      <td>4.7660</td>\n",
       "      <td>85935500</td>\n",
       "      <td>-0.0025</td>\n",
       "      <td>NaN</td>\n",
       "      <td>NaN</td>\n",
       "    </tr>\n",
       "    <tr>\n",
       "      <th>2010-07-01</th>\n",
       "      <td>5.0000</td>\n",
       "      <td>5.1840</td>\n",
       "      <td>4.0540</td>\n",
       "      <td>4.3920</td>\n",
       "      <td>4.3920</td>\n",
       "      <td>41094000</td>\n",
       "      <td>-0.0785</td>\n",
       "      <td>-0.0025</td>\n",
       "      <td>-0.0025</td>\n",
       "    </tr>\n",
       "    <tr>\n",
       "      <th>2010-07-02</th>\n",
       "      <td>4.6000</td>\n",
       "      <td>4.6200</td>\n",
       "      <td>3.7420</td>\n",
       "      <td>3.8400</td>\n",
       "      <td>3.8400</td>\n",
       "      <td>25699000</td>\n",
       "      <td>-0.1257</td>\n",
       "      <td>-0.0785</td>\n",
       "      <td>-0.0785</td>\n",
       "    </tr>\n",
       "    <tr>\n",
       "      <th>2010-07-06</th>\n",
       "      <td>4.0000</td>\n",
       "      <td>4.0000</td>\n",
       "      <td>3.1660</td>\n",
       "      <td>3.2220</td>\n",
       "      <td>3.2220</td>\n",
       "      <td>34334500</td>\n",
       "      <td>-0.1609</td>\n",
       "      <td>-0.1257</td>\n",
       "      <td>NaN</td>\n",
       "    </tr>\n",
       "    <tr>\n",
       "      <th>...</th>\n",
       "      <td>...</td>\n",
       "      <td>...</td>\n",
       "      <td>...</td>\n",
       "      <td>...</td>\n",
       "      <td>...</td>\n",
       "      <td>...</td>\n",
       "      <td>...</td>\n",
       "      <td>...</td>\n",
       "      <td>...</td>\n",
       "    </tr>\n",
       "    <tr>\n",
       "      <th>2022-07-27</th>\n",
       "      <td>791.4300</td>\n",
       "      <td>827.7800</td>\n",
       "      <td>785.3700</td>\n",
       "      <td>824.4600</td>\n",
       "      <td>824.4600</td>\n",
       "      <td>29370000</td>\n",
       "      <td>0.0617</td>\n",
       "      <td>-0.0357</td>\n",
       "      <td>-0.0357</td>\n",
       "    </tr>\n",
       "    <tr>\n",
       "      <th>2022-07-28</th>\n",
       "      <td>840.2000</td>\n",
       "      <td>849.9000</td>\n",
       "      <td>818.4000</td>\n",
       "      <td>842.7000</td>\n",
       "      <td>842.7000</td>\n",
       "      <td>28241000</td>\n",
       "      <td>0.0221</td>\n",
       "      <td>0.0617</td>\n",
       "      <td>0.0617</td>\n",
       "    </tr>\n",
       "    <tr>\n",
       "      <th>2022-07-29</th>\n",
       "      <td>842.1000</td>\n",
       "      <td>894.9600</td>\n",
       "      <td>837.3000</td>\n",
       "      <td>891.4500</td>\n",
       "      <td>891.4500</td>\n",
       "      <td>31771000</td>\n",
       "      <td>0.0578</td>\n",
       "      <td>0.0221</td>\n",
       "      <td>0.0221</td>\n",
       "    </tr>\n",
       "    <tr>\n",
       "      <th>2022-08-01</th>\n",
       "      <td>903.8300</td>\n",
       "      <td>935.6300</td>\n",
       "      <td>885.0000</td>\n",
       "      <td>891.8300</td>\n",
       "      <td>891.8300</td>\n",
       "      <td>39014300</td>\n",
       "      <td>0.0004</td>\n",
       "      <td>0.0578</td>\n",
       "      <td>0.0578</td>\n",
       "    </tr>\n",
       "    <tr>\n",
       "      <th>2022-08-02</th>\n",
       "      <td>882.0100</td>\n",
       "      <td>923.5000</td>\n",
       "      <td>878.0000</td>\n",
       "      <td>901.7600</td>\n",
       "      <td>901.7600</td>\n",
       "      <td>31859200</td>\n",
       "      <td>0.0111</td>\n",
       "      <td>0.0004</td>\n",
       "      <td>0.0004</td>\n",
       "    </tr>\n",
       "  </tbody>\n",
       "</table>\n",
       "<p>3045 rows × 9 columns</p>\n",
       "</div>"
      ],
      "text/plain": [
       "               Open     High      Low    Close  Adj Close    Volume  Return  \\\n",
       "Date                                                                          \n",
       "2010-06-29   3.8000   5.0000   3.5080   4.7780     4.7780  93831500     NaN   \n",
       "2010-06-30   5.1580   6.0840   4.6600   4.7660     4.7660  85935500 -0.0025   \n",
       "2010-07-01   5.0000   5.1840   4.0540   4.3920     4.3920  41094000 -0.0785   \n",
       "2010-07-02   4.6000   4.6200   3.7420   3.8400     3.8400  25699000 -0.1257   \n",
       "2010-07-06   4.0000   4.0000   3.1660   3.2220     3.2220  34334500 -0.1609   \n",
       "...             ...      ...      ...      ...        ...       ...     ...   \n",
       "2022-07-27 791.4300 827.7800 785.3700 824.4600   824.4600  29370000  0.0617   \n",
       "2022-07-28 840.2000 849.9000 818.4000 842.7000   842.7000  28241000  0.0221   \n",
       "2022-07-29 842.1000 894.9600 837.3000 891.4500   891.4500  31771000  0.0578   \n",
       "2022-08-01 903.8300 935.6300 885.0000 891.8300   891.8300  39014300  0.0004   \n",
       "2022-08-02 882.0100 923.5000 878.0000 901.7600   901.7600  31859200  0.0111   \n",
       "\n",
       "            Return_lag1  Return_lag1_alt  \n",
       "Date                                      \n",
       "2010-06-29          NaN              NaN  \n",
       "2010-06-30          NaN              NaN  \n",
       "2010-07-01      -0.0025          -0.0025  \n",
       "2010-07-02      -0.0785          -0.0785  \n",
       "2010-07-06      -0.1257              NaN  \n",
       "...                 ...              ...  \n",
       "2022-07-27      -0.0357          -0.0357  \n",
       "2022-07-28       0.0617           0.0617  \n",
       "2022-07-29       0.0221           0.0221  \n",
       "2022-08-01       0.0578           0.0578  \n",
       "2022-08-02       0.0004           0.0004  \n",
       "\n",
       "[3045 rows x 9 columns]"
      ]
     },
     "execution_count": 63,
     "metadata": {},
     "output_type": "execute_result"
    }
   ],
   "source": [
    "tsla.join(tsla[['Return']].shift(1, freq='B'), rsuffix='_lag1_alt')"
   ]
  },
  {
   "cell_type": "markdown",
   "metadata": {},
   "source": [
    "---"
   ]
  },
  {
   "cell_type": "markdown",
   "metadata": {
    "deletable": true,
    "editable": true
   },
   "source": [
    "## Shifting dates with offsets"
   ]
  },
  {
   "cell_type": "markdown",
   "metadata": {},
   "source": [
    "We can also shift timestamps to the beginning or end of a period or interval."
   ]
  },
  {
   "cell_type": "code",
   "execution_count": 64,
   "metadata": {
    "collapsed": false,
    "deletable": true,
    "editable": true,
    "jupyter": {
     "outputs_hidden": false
    }
   },
   "outputs": [
    {
     "data": {
      "text/plain": [
       "Timestamp('2011-11-20 00:00:00')"
      ]
     },
     "execution_count": 64,
     "metadata": {},
     "output_type": "execute_result"
    }
   ],
   "source": [
    "from pandas.tseries.offsets import Day, MonthEnd\n",
    "now = datetime(2011, 11, 17)\n",
    "now + 3 * Day()"
   ]
  },
  {
   "cell_type": "code",
   "execution_count": 65,
   "metadata": {
    "collapsed": false,
    "deletable": true,
    "editable": true,
    "jupyter": {
     "outputs_hidden": false
    }
   },
   "outputs": [
    {
     "data": {
      "text/plain": [
       "Timestamp('2011-11-30 00:00:00')"
      ]
     },
     "execution_count": 65,
     "metadata": {},
     "output_type": "execute_result"
    }
   ],
   "source": [
    "now + MonthEnd(0) # 0 is for move to the end of the month, but never leave the month"
   ]
  },
  {
   "cell_type": "code",
   "execution_count": 66,
   "metadata": {
    "collapsed": false,
    "editable": true,
    "jupyter": {
     "outputs_hidden": false
    }
   },
   "outputs": [
    {
     "data": {
      "text/plain": [
       "Timestamp('2011-11-30 00:00:00')"
      ]
     },
     "execution_count": 66,
     "metadata": {},
     "output_type": "execute_result"
    }
   ],
   "source": [
    "now + MonthEnd(1) # 1 is for move to the end of the month, if already at end, move to the next end"
   ]
  },
  {
   "cell_type": "code",
   "execution_count": 67,
   "metadata": {},
   "outputs": [
    {
     "data": {
      "text/plain": [
       "Timestamp('2011-12-31 00:00:00')"
      ]
     },
     "execution_count": 67,
     "metadata": {},
     "output_type": "execute_result"
    }
   ],
   "source": [
    "now + MonthEnd(2)"
   ]
  },
  {
   "cell_type": "markdown",
   "metadata": {},
   "source": [
    "Date offsets can help us align data for presentation or merging."
   ]
  },
  {
   "cell_type": "markdown",
   "metadata": {},
   "source": [
    "***BE CAREFUL!!!***"
   ]
  },
  {
   "cell_type": "code",
   "execution_count": 68,
   "metadata": {},
   "outputs": [
    {
     "data": {
      "text/plain": [
       "Timestamp('2021-10-31 00:00:00')"
      ]
     },
     "execution_count": 68,
     "metadata": {},
     "output_type": "execute_result"
    }
   ],
   "source": [
    "datetime(2021, 10, 30) + MonthEnd(0)"
   ]
  },
  {
   "cell_type": "code",
   "execution_count": 69,
   "metadata": {},
   "outputs": [
    {
     "data": {
      "text/plain": [
       "Timestamp('2021-10-31 00:00:00')"
      ]
     },
     "execution_count": 69,
     "metadata": {},
     "output_type": "execute_result"
    }
   ],
   "source": [
    "datetime(2021, 10, 30) + MonthEnd(1)"
   ]
  },
  {
   "cell_type": "code",
   "execution_count": 70,
   "metadata": {},
   "outputs": [
    {
     "data": {
      "text/plain": [
       "Timestamp('2021-10-31 00:00:00')"
      ]
     },
     "execution_count": 70,
     "metadata": {},
     "output_type": "execute_result"
    }
   ],
   "source": [
    "datetime(2021, 10, 31) + MonthEnd(0)"
   ]
  },
  {
   "cell_type": "code",
   "execution_count": 71,
   "metadata": {},
   "outputs": [
    {
     "data": {
      "text/plain": [
       "Timestamp('2021-11-30 00:00:00')"
      ]
     },
     "execution_count": 71,
     "metadata": {},
     "output_type": "execute_result"
    }
   ],
   "source": [
    "datetime(2021, 10, 31) + MonthEnd(1)"
   ]
  },
  {
   "cell_type": "markdown",
   "metadata": {
    "deletable": true,
    "editable": true
   },
   "source": [
    "# Resampling and Frequency Conversion"
   ]
  },
  {
   "cell_type": "markdown",
   "metadata": {},
   "source": [
    "***Resampling is an important feature!***\n",
    "\n",
    "> Resampling refers to the process of converting a time series from one frequency to\n",
    "another. Aggregating higher frequency data to lower frequency is called \n",
    "downsampling, while converting lower frequency to higher frequency is called upsampling. Not\n",
    "all resampling falls into either of these categories; for example, converting W-WED\n",
    "(weekly on Wednesday) to W-FRI is neither upsampling nor downsampling.\n",
    "\n",
    "We can resample both series and data frames.\n",
    "The `.resample()` method syntax is similar to the `.groupby()` method syntax.\n",
    "This similarity is because `.resample()` is syntactic sugar for `.groupby()`."
   ]
  },
  {
   "cell_type": "markdown",
   "metadata": {
    "deletable": true,
    "editable": true
   },
   "source": [
    "## Downsampling"
   ]
  },
  {
   "cell_type": "markdown",
   "metadata": {},
   "source": [
    "> Aggregating data to a regular, lower frequency is a pretty normal time series task. The\n",
    "data you’re aggregating doesn’t need to be fixed frequently; the desired frequency\n",
    "defines bin edges that are used to slice the time series into pieces to aggregate. For\n",
    "example, to convert to monthly, 'M' or 'BM', you need to chop up the data into \n",
    "one-month intervals. Each interval is said to be half-open; a data point can only belong to\n",
    "one interval, and the union of the intervals must make up the whole time frame.\n",
    "There are a couple things to think about when using resample to downsample data:\n",
    ">\n",
    "> - Which side of each interval is closed\n",
    "> - How to label each aggregated bin, either with the start of the interval or the end"
   ]
  },
  {
   "cell_type": "code",
   "execution_count": 72,
   "metadata": {
    "collapsed": false,
    "deletable": true,
    "editable": true,
    "jupyter": {
     "outputs_hidden": false
    }
   },
   "outputs": [],
   "source": [
    "rng = pd.date_range('2000-01-01', periods=12, freq='T')\n",
    "ts = pd.Series(np.arange(12), index=rng)"
   ]
  },
  {
   "cell_type": "code",
   "execution_count": 73,
   "metadata": {},
   "outputs": [
    {
     "data": {
      "text/plain": [
       "2000-01-01 00:00:00     0\n",
       "2000-01-01 00:01:00     1\n",
       "2000-01-01 00:02:00     2\n",
       "2000-01-01 00:03:00     3\n",
       "2000-01-01 00:04:00     4\n",
       "2000-01-01 00:05:00     5\n",
       "2000-01-01 00:06:00     6\n",
       "2000-01-01 00:07:00     7\n",
       "2000-01-01 00:08:00     8\n",
       "2000-01-01 00:09:00     9\n",
       "2000-01-01 00:10:00    10\n",
       "2000-01-01 00:11:00    11\n",
       "Freq: T, dtype: int64"
      ]
     },
     "execution_count": 73,
     "metadata": {},
     "output_type": "execute_result"
    }
   ],
   "source": [
    "ts"
   ]
  },
  {
   "cell_type": "markdown",
   "metadata": {},
   "source": [
    "We can aggregate the one-minute frequency data above to a five-minute frequency.\n",
    "Resampling requires and aggregation method, and here McKinney chooses the `.sum()` method."
   ]
  },
  {
   "cell_type": "code",
   "execution_count": 74,
   "metadata": {
    "collapsed": false,
    "editable": true,
    "jupyter": {
     "outputs_hidden": false
    }
   },
   "outputs": [
    {
     "data": {
      "text/plain": [
       "2000-01-01 00:00:00    10\n",
       "2000-01-01 00:05:00    35\n",
       "2000-01-01 00:10:00    21\n",
       "Freq: 5T, dtype: int64"
      ]
     },
     "execution_count": 74,
     "metadata": {},
     "output_type": "execute_result"
    }
   ],
   "source": [
    "ts.resample('5min').sum()"
   ]
  },
  {
   "cell_type": "markdown",
   "metadata": {},
   "source": [
    "Two observations about the previous resampling example:\n",
    "\n",
    "1. For minute-frequency resampling, the default is that the new data are labeled by the left edge of the resampling interval\n",
    "2. For minute-frequency resampling, the default is that the left edge is closed (included) and the right edge is open (excluded)\n",
    "\n",
    "As a result, the first value of 10 at midnight is the sum of values at midnight and to the right of midnight, not including the value at 00:05 (i.e., $10 = 0+1+2+3+4$ at 00:00 and $35 = 5+6+7+8+9$  at 00:05).\n",
    "We can use the `closed` and `label` arguments to change this behavior."
   ]
  },
  {
   "cell_type": "code",
   "execution_count": 75,
   "metadata": {
    "collapsed": false,
    "deletable": true,
    "editable": true,
    "jupyter": {
     "outputs_hidden": false
    }
   },
   "outputs": [
    {
     "data": {
      "text/plain": [
       "1999-12-31 23:55:00     0\n",
       "2000-01-01 00:00:00    15\n",
       "2000-01-01 00:05:00    40\n",
       "2000-01-01 00:10:00    11\n",
       "Freq: 5T, dtype: int64"
      ]
     },
     "execution_count": 75,
     "metadata": {},
     "output_type": "execute_result"
    }
   ],
   "source": [
    "ts.resample('5min', closed='right').sum()"
   ]
  },
  {
   "cell_type": "markdown",
   "metadata": {},
   "source": [
    "In finance, we prefer closed='right' and label='right'."
   ]
  },
  {
   "cell_type": "code",
   "execution_count": 76,
   "metadata": {
    "deletable": true,
    "editable": true,
    "tags": []
   },
   "outputs": [
    {
     "data": {
      "text/plain": [
       "2000-01-01 00:00:00     0\n",
       "2000-01-01 00:05:00    15\n",
       "2000-01-01 00:10:00    40\n",
       "2000-01-01 00:15:00    11\n",
       "Freq: 5T, dtype: int64"
      ]
     },
     "execution_count": 76,
     "metadata": {},
     "output_type": "execute_result"
    }
   ],
   "source": [
    "ts.resample('5min', closed='right', label='right').sum() "
   ]
  },
  {
   "cell_type": "markdown",
   "metadata": {},
   "source": [
    "These defaults for minute-frequency data may seem odd, but any choice is arbitrary.\n",
    "I suggest you do the following when you use the `.resample()` method:\n",
    "\n",
    "1. Read the docstring\n",
    "2. Check your output\n",
    "\n",
    "pandas (and the `.resample()` method) are mature and widely used, so the defaults are typically reasonable."
   ]
  },
  {
   "cell_type": "markdown",
   "metadata": {},
   "source": [
    "---"
   ]
  },
  {
   "cell_type": "markdown",
   "metadata": {},
   "source": [
    "***Practice:***\n",
    "Calculate 5-minute returns for GME from 1-minute data.\n",
    "\n",
    "_Hints:_\n",
    "\n",
    "1. Recall that returns are the percent change of the adjust close column\n",
    "2. Use the `label` and `closed` arguments so that returns are the over the _previous_ five minutes"
   ]
  },
  {
   "cell_type": "code",
   "execution_count": 77,
   "metadata": {},
   "outputs": [
    {
     "name": "stdout",
     "output_type": "stream",
     "text": [
      "[*********************100%***********************]  1 of 1 completed\n"
     ]
    }
   ],
   "source": [
    "gme_1m = yf.download(tickers='GME', interval='1m', period='7d', session=session)"
   ]
  },
  {
   "cell_type": "markdown",
   "metadata": {},
   "source": [
    "Note that we use the `.between_time()` method to remove the overnight values that are not really there."
   ]
  },
  {
   "cell_type": "code",
   "execution_count": 78,
   "metadata": {},
   "outputs": [
    {
     "data": {
      "text/plain": [
       "Datetime\n",
       "2022-07-26 15:45:00-04:00   -0.0016\n",
       "2022-07-26 15:50:00-04:00    0.0054\n",
       "2022-07-26 15:55:00-04:00    0.0002\n",
       "2022-07-26 16:00:00-04:00    0.0020\n",
       "2022-07-27 09:30:00-04:00    0.0148\n",
       "2022-07-27 09:35:00-04:00   -0.0050\n",
       "2022-07-27 09:40:00-04:00   -0.0060\n",
       "2022-07-27 09:45:00-04:00   -0.0048\n",
       "2022-07-27 09:50:00-04:00    0.0055\n",
       "2022-07-27 09:55:00-04:00   -0.0064\n",
       "Name: Adj Close, dtype: float64"
      ]
     },
     "execution_count": 78,
     "metadata": {},
     "output_type": "execute_result"
    }
   ],
   "source": [
    "gme_1m['Adj Close'].resample(rule='5T', closed='right', label='right').last().between_time('09:30', '16:00').pct_change().iloc[75:85]"
   ]
  },
  {
   "cell_type": "markdown",
   "metadata": {},
   "source": [
    "---"
   ]
  },
  {
   "cell_type": "markdown",
   "metadata": {
    "deletable": true,
    "editable": true
   },
   "source": [
    "## Upsampling and Interpolation"
   ]
  },
  {
   "cell_type": "markdown",
   "metadata": {},
   "source": [
    "To downsample (i.e., resample from higher frequency to lower frequency), we have to choose an aggregation method (e.g., `.mean()`, `.sum()`, `.first()`, or `.last()`).\n",
    "To upsample (i.e., resample from lower frequency to higher frequency), we do not have to choose an aggregation method."
   ]
  },
  {
   "cell_type": "code",
   "execution_count": 79,
   "metadata": {
    "collapsed": false,
    "deletable": true,
    "editable": true,
    "jupyter": {
     "outputs_hidden": false
    }
   },
   "outputs": [],
   "source": [
    "np.random.seed(42)\n",
    "frame = pd.DataFrame(np.random.randn(2, 4),\n",
    "                     index=pd.date_range('1/1/2000', periods=2, freq='W-WED'),\n",
    "                     columns=['Colorado', 'Texas', 'New York', 'Ohio'])"
   ]
  },
  {
   "cell_type": "code",
   "execution_count": 80,
   "metadata": {},
   "outputs": [
    {
     "data": {
      "text/html": [
       "<div>\n",
       "<style scoped>\n",
       "    .dataframe tbody tr th:only-of-type {\n",
       "        vertical-align: middle;\n",
       "    }\n",
       "\n",
       "    .dataframe tbody tr th {\n",
       "        vertical-align: top;\n",
       "    }\n",
       "\n",
       "    .dataframe thead th {\n",
       "        text-align: right;\n",
       "    }\n",
       "</style>\n",
       "<table border=\"1\" class=\"dataframe\">\n",
       "  <thead>\n",
       "    <tr style=\"text-align: right;\">\n",
       "      <th></th>\n",
       "      <th>Colorado</th>\n",
       "      <th>Texas</th>\n",
       "      <th>New York</th>\n",
       "      <th>Ohio</th>\n",
       "    </tr>\n",
       "  </thead>\n",
       "  <tbody>\n",
       "    <tr>\n",
       "      <th>2000-01-05</th>\n",
       "      <td>0.4967</td>\n",
       "      <td>-0.1383</td>\n",
       "      <td>0.6477</td>\n",
       "      <td>1.5230</td>\n",
       "    </tr>\n",
       "    <tr>\n",
       "      <th>2000-01-12</th>\n",
       "      <td>-0.2342</td>\n",
       "      <td>-0.2341</td>\n",
       "      <td>1.5792</td>\n",
       "      <td>0.7674</td>\n",
       "    </tr>\n",
       "  </tbody>\n",
       "</table>\n",
       "</div>"
      ],
      "text/plain": [
       "            Colorado   Texas  New York   Ohio\n",
       "2000-01-05    0.4967 -0.1383    0.6477 1.5230\n",
       "2000-01-12   -0.2342 -0.2341    1.5792 0.7674"
      ]
     },
     "execution_count": 80,
     "metadata": {},
     "output_type": "execute_result"
    }
   ],
   "source": [
    "frame"
   ]
  },
  {
   "cell_type": "markdown",
   "metadata": {},
   "source": [
    "We can use the `.asfreq()` method to convert to the new frequency \"as is\"."
   ]
  },
  {
   "cell_type": "code",
   "execution_count": 81,
   "metadata": {
    "collapsed": false,
    "deletable": true,
    "editable": true,
    "jupyter": {
     "outputs_hidden": false
    }
   },
   "outputs": [],
   "source": [
    "df_daily = frame.resample('D').asfreq()"
   ]
  },
  {
   "cell_type": "code",
   "execution_count": 82,
   "metadata": {},
   "outputs": [
    {
     "data": {
      "text/html": [
       "<div>\n",
       "<style scoped>\n",
       "    .dataframe tbody tr th:only-of-type {\n",
       "        vertical-align: middle;\n",
       "    }\n",
       "\n",
       "    .dataframe tbody tr th {\n",
       "        vertical-align: top;\n",
       "    }\n",
       "\n",
       "    .dataframe thead th {\n",
       "        text-align: right;\n",
       "    }\n",
       "</style>\n",
       "<table border=\"1\" class=\"dataframe\">\n",
       "  <thead>\n",
       "    <tr style=\"text-align: right;\">\n",
       "      <th></th>\n",
       "      <th>Colorado</th>\n",
       "      <th>Texas</th>\n",
       "      <th>New York</th>\n",
       "      <th>Ohio</th>\n",
       "    </tr>\n",
       "  </thead>\n",
       "  <tbody>\n",
       "    <tr>\n",
       "      <th>2000-01-05</th>\n",
       "      <td>0.4967</td>\n",
       "      <td>-0.1383</td>\n",
       "      <td>0.6477</td>\n",
       "      <td>1.5230</td>\n",
       "    </tr>\n",
       "    <tr>\n",
       "      <th>2000-01-06</th>\n",
       "      <td>NaN</td>\n",
       "      <td>NaN</td>\n",
       "      <td>NaN</td>\n",
       "      <td>NaN</td>\n",
       "    </tr>\n",
       "    <tr>\n",
       "      <th>2000-01-07</th>\n",
       "      <td>NaN</td>\n",
       "      <td>NaN</td>\n",
       "      <td>NaN</td>\n",
       "      <td>NaN</td>\n",
       "    </tr>\n",
       "    <tr>\n",
       "      <th>2000-01-08</th>\n",
       "      <td>NaN</td>\n",
       "      <td>NaN</td>\n",
       "      <td>NaN</td>\n",
       "      <td>NaN</td>\n",
       "    </tr>\n",
       "    <tr>\n",
       "      <th>2000-01-09</th>\n",
       "      <td>NaN</td>\n",
       "      <td>NaN</td>\n",
       "      <td>NaN</td>\n",
       "      <td>NaN</td>\n",
       "    </tr>\n",
       "    <tr>\n",
       "      <th>2000-01-10</th>\n",
       "      <td>NaN</td>\n",
       "      <td>NaN</td>\n",
       "      <td>NaN</td>\n",
       "      <td>NaN</td>\n",
       "    </tr>\n",
       "    <tr>\n",
       "      <th>2000-01-11</th>\n",
       "      <td>NaN</td>\n",
       "      <td>NaN</td>\n",
       "      <td>NaN</td>\n",
       "      <td>NaN</td>\n",
       "    </tr>\n",
       "    <tr>\n",
       "      <th>2000-01-12</th>\n",
       "      <td>-0.2342</td>\n",
       "      <td>-0.2341</td>\n",
       "      <td>1.5792</td>\n",
       "      <td>0.7674</td>\n",
       "    </tr>\n",
       "  </tbody>\n",
       "</table>\n",
       "</div>"
      ],
      "text/plain": [
       "            Colorado   Texas  New York   Ohio\n",
       "2000-01-05    0.4967 -0.1383    0.6477 1.5230\n",
       "2000-01-06       NaN     NaN       NaN    NaN\n",
       "2000-01-07       NaN     NaN       NaN    NaN\n",
       "2000-01-08       NaN     NaN       NaN    NaN\n",
       "2000-01-09       NaN     NaN       NaN    NaN\n",
       "2000-01-10       NaN     NaN       NaN    NaN\n",
       "2000-01-11       NaN     NaN       NaN    NaN\n",
       "2000-01-12   -0.2342 -0.2341    1.5792 0.7674"
      ]
     },
     "execution_count": 82,
     "metadata": {},
     "output_type": "execute_result"
    }
   ],
   "source": [
    "df_daily"
   ]
  },
  {
   "cell_type": "markdown",
   "metadata": {},
   "source": [
    "We do not *have* to choose an aggregation method, but we may want to choose a method to fill in the missing values."
   ]
  },
  {
   "cell_type": "code",
   "execution_count": 83,
   "metadata": {
    "collapsed": false,
    "deletable": true,
    "editable": true,
    "jupyter": {
     "outputs_hidden": false
    }
   },
   "outputs": [
    {
     "data": {
      "text/html": [
       "<div>\n",
       "<style scoped>\n",
       "    .dataframe tbody tr th:only-of-type {\n",
       "        vertical-align: middle;\n",
       "    }\n",
       "\n",
       "    .dataframe tbody tr th {\n",
       "        vertical-align: top;\n",
       "    }\n",
       "\n",
       "    .dataframe thead th {\n",
       "        text-align: right;\n",
       "    }\n",
       "</style>\n",
       "<table border=\"1\" class=\"dataframe\">\n",
       "  <thead>\n",
       "    <tr style=\"text-align: right;\">\n",
       "      <th></th>\n",
       "      <th>Colorado</th>\n",
       "      <th>Texas</th>\n",
       "      <th>New York</th>\n",
       "      <th>Ohio</th>\n",
       "    </tr>\n",
       "  </thead>\n",
       "  <tbody>\n",
       "    <tr>\n",
       "      <th>2000-01-05</th>\n",
       "      <td>0.4967</td>\n",
       "      <td>-0.1383</td>\n",
       "      <td>0.6477</td>\n",
       "      <td>1.5230</td>\n",
       "    </tr>\n",
       "    <tr>\n",
       "      <th>2000-01-06</th>\n",
       "      <td>0.4967</td>\n",
       "      <td>-0.1383</td>\n",
       "      <td>0.6477</td>\n",
       "      <td>1.5230</td>\n",
       "    </tr>\n",
       "    <tr>\n",
       "      <th>2000-01-07</th>\n",
       "      <td>0.4967</td>\n",
       "      <td>-0.1383</td>\n",
       "      <td>0.6477</td>\n",
       "      <td>1.5230</td>\n",
       "    </tr>\n",
       "    <tr>\n",
       "      <th>2000-01-08</th>\n",
       "      <td>0.4967</td>\n",
       "      <td>-0.1383</td>\n",
       "      <td>0.6477</td>\n",
       "      <td>1.5230</td>\n",
       "    </tr>\n",
       "    <tr>\n",
       "      <th>2000-01-09</th>\n",
       "      <td>0.4967</td>\n",
       "      <td>-0.1383</td>\n",
       "      <td>0.6477</td>\n",
       "      <td>1.5230</td>\n",
       "    </tr>\n",
       "    <tr>\n",
       "      <th>2000-01-10</th>\n",
       "      <td>0.4967</td>\n",
       "      <td>-0.1383</td>\n",
       "      <td>0.6477</td>\n",
       "      <td>1.5230</td>\n",
       "    </tr>\n",
       "    <tr>\n",
       "      <th>2000-01-11</th>\n",
       "      <td>0.4967</td>\n",
       "      <td>-0.1383</td>\n",
       "      <td>0.6477</td>\n",
       "      <td>1.5230</td>\n",
       "    </tr>\n",
       "    <tr>\n",
       "      <th>2000-01-12</th>\n",
       "      <td>-0.2342</td>\n",
       "      <td>-0.2341</td>\n",
       "      <td>1.5792</td>\n",
       "      <td>0.7674</td>\n",
       "    </tr>\n",
       "  </tbody>\n",
       "</table>\n",
       "</div>"
      ],
      "text/plain": [
       "            Colorado   Texas  New York   Ohio\n",
       "2000-01-05    0.4967 -0.1383    0.6477 1.5230\n",
       "2000-01-06    0.4967 -0.1383    0.6477 1.5230\n",
       "2000-01-07    0.4967 -0.1383    0.6477 1.5230\n",
       "2000-01-08    0.4967 -0.1383    0.6477 1.5230\n",
       "2000-01-09    0.4967 -0.1383    0.6477 1.5230\n",
       "2000-01-10    0.4967 -0.1383    0.6477 1.5230\n",
       "2000-01-11    0.4967 -0.1383    0.6477 1.5230\n",
       "2000-01-12   -0.2342 -0.2341    1.5792 0.7674"
      ]
     },
     "execution_count": 83,
     "metadata": {},
     "output_type": "execute_result"
    }
   ],
   "source": [
    "frame.resample('D').ffill()"
   ]
  },
  {
   "cell_type": "code",
   "execution_count": 84,
   "metadata": {
    "collapsed": false,
    "deletable": true,
    "editable": true,
    "jupyter": {
     "outputs_hidden": false
    }
   },
   "outputs": [
    {
     "data": {
      "text/html": [
       "<div>\n",
       "<style scoped>\n",
       "    .dataframe tbody tr th:only-of-type {\n",
       "        vertical-align: middle;\n",
       "    }\n",
       "\n",
       "    .dataframe tbody tr th {\n",
       "        vertical-align: top;\n",
       "    }\n",
       "\n",
       "    .dataframe thead th {\n",
       "        text-align: right;\n",
       "    }\n",
       "</style>\n",
       "<table border=\"1\" class=\"dataframe\">\n",
       "  <thead>\n",
       "    <tr style=\"text-align: right;\">\n",
       "      <th></th>\n",
       "      <th>Colorado</th>\n",
       "      <th>Texas</th>\n",
       "      <th>New York</th>\n",
       "      <th>Ohio</th>\n",
       "    </tr>\n",
       "  </thead>\n",
       "  <tbody>\n",
       "    <tr>\n",
       "      <th>2000-01-05</th>\n",
       "      <td>0.4967</td>\n",
       "      <td>-0.1383</td>\n",
       "      <td>0.6477</td>\n",
       "      <td>1.5230</td>\n",
       "    </tr>\n",
       "    <tr>\n",
       "      <th>2000-01-06</th>\n",
       "      <td>0.4967</td>\n",
       "      <td>-0.1383</td>\n",
       "      <td>0.6477</td>\n",
       "      <td>1.5230</td>\n",
       "    </tr>\n",
       "    <tr>\n",
       "      <th>2000-01-07</th>\n",
       "      <td>0.4967</td>\n",
       "      <td>-0.1383</td>\n",
       "      <td>0.6477</td>\n",
       "      <td>1.5230</td>\n",
       "    </tr>\n",
       "    <tr>\n",
       "      <th>2000-01-08</th>\n",
       "      <td>NaN</td>\n",
       "      <td>NaN</td>\n",
       "      <td>NaN</td>\n",
       "      <td>NaN</td>\n",
       "    </tr>\n",
       "    <tr>\n",
       "      <th>2000-01-09</th>\n",
       "      <td>NaN</td>\n",
       "      <td>NaN</td>\n",
       "      <td>NaN</td>\n",
       "      <td>NaN</td>\n",
       "    </tr>\n",
       "    <tr>\n",
       "      <th>2000-01-10</th>\n",
       "      <td>NaN</td>\n",
       "      <td>NaN</td>\n",
       "      <td>NaN</td>\n",
       "      <td>NaN</td>\n",
       "    </tr>\n",
       "    <tr>\n",
       "      <th>2000-01-11</th>\n",
       "      <td>NaN</td>\n",
       "      <td>NaN</td>\n",
       "      <td>NaN</td>\n",
       "      <td>NaN</td>\n",
       "    </tr>\n",
       "    <tr>\n",
       "      <th>2000-01-12</th>\n",
       "      <td>-0.2342</td>\n",
       "      <td>-0.2341</td>\n",
       "      <td>1.5792</td>\n",
       "      <td>0.7674</td>\n",
       "    </tr>\n",
       "  </tbody>\n",
       "</table>\n",
       "</div>"
      ],
      "text/plain": [
       "            Colorado   Texas  New York   Ohio\n",
       "2000-01-05    0.4967 -0.1383    0.6477 1.5230\n",
       "2000-01-06    0.4967 -0.1383    0.6477 1.5230\n",
       "2000-01-07    0.4967 -0.1383    0.6477 1.5230\n",
       "2000-01-08       NaN     NaN       NaN    NaN\n",
       "2000-01-09       NaN     NaN       NaN    NaN\n",
       "2000-01-10       NaN     NaN       NaN    NaN\n",
       "2000-01-11       NaN     NaN       NaN    NaN\n",
       "2000-01-12   -0.2342 -0.2341    1.5792 0.7674"
      ]
     },
     "execution_count": 84,
     "metadata": {},
     "output_type": "execute_result"
    }
   ],
   "source": [
    "frame.resample('D').ffill(limit=2)"
   ]
  },
  {
   "cell_type": "code",
   "execution_count": 85,
   "metadata": {
    "collapsed": false,
    "deletable": true,
    "editable": true,
    "jupyter": {
     "outputs_hidden": false
    }
   },
   "outputs": [
    {
     "data": {
      "text/html": [
       "<div>\n",
       "<style scoped>\n",
       "    .dataframe tbody tr th:only-of-type {\n",
       "        vertical-align: middle;\n",
       "    }\n",
       "\n",
       "    .dataframe tbody tr th {\n",
       "        vertical-align: top;\n",
       "    }\n",
       "\n",
       "    .dataframe thead th {\n",
       "        text-align: right;\n",
       "    }\n",
       "</style>\n",
       "<table border=\"1\" class=\"dataframe\">\n",
       "  <thead>\n",
       "    <tr style=\"text-align: right;\">\n",
       "      <th></th>\n",
       "      <th>Colorado</th>\n",
       "      <th>Texas</th>\n",
       "      <th>New York</th>\n",
       "      <th>Ohio</th>\n",
       "    </tr>\n",
       "  </thead>\n",
       "  <tbody>\n",
       "    <tr>\n",
       "      <th>2000-01-06</th>\n",
       "      <td>0.4967</td>\n",
       "      <td>-0.1383</td>\n",
       "      <td>0.6477</td>\n",
       "      <td>1.5230</td>\n",
       "    </tr>\n",
       "    <tr>\n",
       "      <th>2000-01-13</th>\n",
       "      <td>-0.2342</td>\n",
       "      <td>-0.2341</td>\n",
       "      <td>1.5792</td>\n",
       "      <td>0.7674</td>\n",
       "    </tr>\n",
       "  </tbody>\n",
       "</table>\n",
       "</div>"
      ],
      "text/plain": [
       "            Colorado   Texas  New York   Ohio\n",
       "2000-01-06    0.4967 -0.1383    0.6477 1.5230\n",
       "2000-01-13   -0.2342 -0.2341    1.5792 0.7674"
      ]
     },
     "execution_count": 85,
     "metadata": {},
     "output_type": "execute_result"
    }
   ],
   "source": [
    "frame.resample('W-THU').ffill()"
   ]
  },
  {
   "cell_type": "markdown",
   "metadata": {
    "deletable": true,
    "editable": true
   },
   "source": [
    "# Moving Window Functions"
   ]
  },
  {
   "cell_type": "markdown",
   "metadata": {},
   "source": [
    "***Moving window (or rolling window) functions are one of the neatest features of pandas, and we will frequently use moving window functions.***\n",
    "We could get more recent data from Yahoo! Finance via the yfinance package.\n",
    "However, let us use the data from the book for consistency."
   ]
  },
  {
   "cell_type": "code",
   "execution_count": 86,
   "metadata": {},
   "outputs": [
    {
     "name": "stdout",
     "output_type": "stream",
     "text": [
      "[*********************100%***********************]  3 of 3 completed\n"
     ]
    }
   ],
   "source": [
    "df = yf.download(tickers=['AAPL', 'MSFT', 'SPY'], session=session)"
   ]
  },
  {
   "cell_type": "code",
   "execution_count": 87,
   "metadata": {},
   "outputs": [
    {
     "data": {
      "text/plain": [
       "Date\n",
       "1980-12-12     0.1002\n",
       "1980-12-15     0.0950\n",
       "1980-12-16     0.0880\n",
       "1980-12-17     0.0902\n",
       "1980-12-18     0.0928\n",
       "               ...   \n",
       "2022-07-27   156.7900\n",
       "2022-07-28   157.3500\n",
       "2022-07-29   162.5100\n",
       "2022-08-01   161.5100\n",
       "2022-08-02   160.0100\n",
       "Name: (Adj Close, AAPL), Length: 10498, dtype: float64"
      ]
     },
     "execution_count": 87,
     "metadata": {},
     "output_type": "execute_result"
    }
   ],
   "source": [
    "df[('Adj Close', 'AAPL')]"
   ]
  },
  {
   "cell_type": "markdown",
   "metadata": {},
   "source": [
    "The `.rolling()` method is similar to the `.groupby()` and `.resample()` methods.\n",
    "The `.rolling()` method accepts a window-width and requires an aggregation method.\n",
    "The next example calculates and plots the 252-trading day moving average of AAPL's price alongside the daily price."
   ]
  },
  {
   "cell_type": "code",
   "execution_count": 88,
   "metadata": {
    "collapsed": false,
    "deletable": true,
    "editable": true,
    "jupyter": {
     "outputs_hidden": false
    }
   },
   "outputs": [
    {
     "data": {
      "image/png": "[encoded data removed]",
      "text/plain": [
       "<Figure size 900x600 with 1 Axes>"
      ]
     },
     "metadata": {
      "needs_background": "light"
     },
     "output_type": "display_data"
    }
   ],
   "source": [
    "_ = df.loc['2012':, ('Adj Close', 'AAPL')]\n",
    "_.plot()\n",
    "_.rolling(252).mean().plot() # min_periods defaults to 252\n",
    "_.rolling('365D').mean().plot() # min_periods defaults to 1\n",
    "_.resample('A').mean().plot(style='.')\n",
    "plt.legend(['Observed', 'Rolling 252-Trading Day Mean', 'Rolling 365-Calendar Day Mean', 'Calendar Year Mean'])\n",
    "plt.xlabel('Date')\n",
    "plt.ylabel('AAPL Adjusted Closing Price')\n",
    "plt.title('Comparison of Rolling and Resampling Aggregations')\n",
    "plt.show()"
   ]
  },
  {
   "cell_type": "markdown",
   "metadata": {},
   "source": [
    "Two observations:\n",
    "\n",
    "1. If we pass the window-width as an integer, the window-width is based on the number of observations and ignores time stamps\n",
    "2. If we pass the window-width as an integer, the `.rolling()` method requires that number of observations for all windows (i.e., note that the moving average starts 251 trading days after the first daily price\n",
    "\n",
    "We can use the `min_periods` argument to allow incomplete windows.\n",
    "For integer window widths, `min_periods defaults` to the given integer window width.\n",
    "For string date offsets, `min_periods defaults` to `1`."
   ]
  },
  {
   "cell_type": "markdown",
   "metadata": {
    "deletable": true,
    "editable": true
   },
   "source": [
    "## Binary Moving Window Functions"
   ]
  },
  {
   "cell_type": "markdown",
   "metadata": {},
   "source": [
    "Binary moving window functions accept two inputs.\n",
    "The most common example is the rolling correlation between two returns series."
   ]
  },
  {
   "cell_type": "code",
   "execution_count": 89,
   "metadata": {},
   "outputs": [],
   "source": [
    "returns = df['Adj Close'].pct_change()"
   ]
  },
  {
   "cell_type": "code",
   "execution_count": 90,
   "metadata": {
    "collapsed": false,
    "deletable": true,
    "editable": true,
    "jupyter": {
     "outputs_hidden": false
    }
   },
   "outputs": [
    {
     "data": {
      "image/png": "[encoded data removed]",
      "text/plain": [
       "<Figure size 900x600 with 1 Axes>"
      ]
     },
     "metadata": {
      "needs_background": "light"
     },
     "output_type": "display_data"
    }
   ],
   "source": [
    "returns['AAPL'].rolling(126, min_periods=100).corr(returns['SPY']).plot()\n",
    "plt.ylabel('Correlation(AAPL, SPY')\n",
    "plt.title('Rolling Correlation between AAPL and SPY\\n (126-Day Window w/ 100-Day Minimum)')\n",
    "plt.show()"
   ]
  },
  {
   "cell_type": "code",
   "execution_count": 91,
   "metadata": {
    "collapsed": false,
    "deletable": true,
    "editable": true,
    "jupyter": {
     "outputs_hidden": false
    }
   },
   "outputs": [
    {
     "data": {
      "image/png": "[encoded data removed]",
      "text/plain": [
       "<Figure size 900x600 with 1 Axes>"
      ]
     },
     "metadata": {
      "needs_background": "light"
     },
     "output_type": "display_data"
    }
   ],
   "source": [
    "returns[['AAPL', 'MSFT']].rolling(126, min_periods=100).corr(returns['SPY']).plot()\n",
    "plt.ylabel('Correlation with SPY')\n",
    "plt.title('Rolling Correlations with SPY\\n (126-Day Window w/ 100-Day Minimum)')\n",
    "plt.show()"
   ]
  },
  {
   "cell_type": "markdown",
   "metadata": {},
   "source": [
    "---"
   ]
  },
  {
   "cell_type": "markdown",
   "metadata": {},
   "source": [
    "***Practice:***\n",
    "Calculate rolling capital asset pricing model (CAPM) betas for these stocks.\n",
    "The CAPM says the risk premium on a stock depends on the risk-free rate, beta, and the risk premium on the market:\n",
    "$$E(R_{stock}) = R_f + \\beta_{stock} \\times (E(R_{market}) - R_f).$$\n",
    "We can calculate CAPM betas as:\n",
    "$$\\beta_{stock} = \\frac{Cov(R_{stock} - R_f, R_{market} - R_f)}{Var(R_{market} - R_f)}.$$"
   ]
  },
  {
   "cell_type": "code",
   "execution_count": 92,
   "metadata": {},
   "outputs": [],
   "source": [
    "ff = pdr.get_data_famafrench('F-F_Research_Data_Factors_daily', start='1900', session=session)[0] / 100"
   ]
  },
  {
   "cell_type": "code",
   "execution_count": 93,
   "metadata": {},
   "outputs": [],
   "source": [
    "excess_returns = returns.sub(ff['RF'], axis=0).dropna()"
   ]
  },
  {
   "cell_type": "code",
   "execution_count": 94,
   "metadata": {},
   "outputs": [],
   "source": [
    "cov_term = excess_returns.rolling(252).cov(excess_returns['SPY'])"
   ]
  },
  {
   "cell_type": "code",
   "execution_count": 95,
   "metadata": {},
   "outputs": [],
   "source": [
    "var_term = excess_returns['SPY'].rolling(252).var()"
   ]
  },
  {
   "cell_type": "code",
   "execution_count": 96,
   "metadata": {},
   "outputs": [],
   "source": [
    "betas = cov_term.div(var_term, axis=0)"
   ]
  },
  {
   "cell_type": "code",
   "execution_count": 97,
   "metadata": {},
   "outputs": [],
   "source": [
    "betas.columns.name = 'Ticker'"
   ]
  },
  {
   "cell_type": "code",
   "execution_count": 98,
   "metadata": {},
   "outputs": [
    {
     "data": {
      "image/png": "[encoded data removed]",
      "text/plain": [
       "<Figure size 900x600 with 1 Axes>"
      ]
     },
     "metadata": {
      "needs_background": "light"
     },
     "output_type": "display_data"
    }
   ],
   "source": [
    "betas.drop(columns='SPY').plot()\n",
    "plt.ylabel('CAPM Beta')\n",
    "plt.title('252-Trading Day Rolling CAPM Betas')\n",
    "plt.show()"
   ]
  },
  {
   "cell_type": "markdown",
   "metadata": {},
   "source": [
    "---"
   ]
  },
  {
   "cell_type": "markdown",
   "metadata": {
    "deletable": true,
    "editable": true
   },
   "source": [
    "## User-Defined Moving Window Functions"
   ]
  },
  {
   "cell_type": "markdown",
   "metadata": {},
   "source": [
    "Finally, we can define our own moving window functions and use the `.apply()` method to apply them\n",
    "However, note that `.apply()` will be much slower than the the optimized moving window functions (e.g., `.mean()`, `.std()`, etc.)."
   ]
  },
  {
   "cell_type": "markdown",
   "metadata": {},
   "source": [
    "McKinney provides an abstract example here, but we will discuss a simpler example that calculates rolling volatility.\n",
    "Also, calculating rolling volatility with the `.apply()` method provides us a chance to benchmark it against the optimized version."
   ]
  },
  {
   "cell_type": "code",
   "execution_count": 99,
   "metadata": {
    "deletable": true,
    "editable": true,
    "tags": []
   },
   "outputs": [
    {
     "data": {
      "image/png": "[encoded data removed]",
      "text/plain": [
       "<Figure size 900x600 with 1 Axes>"
      ]
     },
     "metadata": {
      "needs_background": "light"
     },
     "output_type": "display_data"
    }
   ],
   "source": [
    "returns['AAPL'].rolling(252).apply(np.std).mul(np.sqrt(252) * 100).plot() # annualize and convert to percent\n",
    "plt.ylabel('Annualized Volatility (%)')\n",
    "plt.title('Rolling Annualized Volatility\\n (252-Day Window w/ 252-Day Minimum)')\n",
    "plt.show()"
   ]
  },
  {
   "cell_type": "markdown",
   "metadata": {},
   "source": [
    "Do not be afraid to use `.apply()`, but realize that `.apply()` is typically 1000-times slower than the pre-built method."
   ]
  },
  {
   "cell_type": "code",
   "execution_count": 100,
   "metadata": {},
   "outputs": [
    {
     "name": "stdout",
     "output_type": "stream",
     "text": [
      "1.32 s ± 309 ms per loop (mean ± std. dev. of 7 runs, 1 loop each)\n"
     ]
    }
   ],
   "source": [
    "%timeit returns['AAPL'].rolling(252).apply(np.std)"
   ]
  },
  {
   "cell_type": "code",
   "execution_count": 101,
   "metadata": {},
   "outputs": [
    {
     "name": "stdout",
     "output_type": "stream",
     "text": [
      "593 µs ± 74.6 µs per loop (mean ± std. dev. of 7 runs, 1,000 loops each)\n"
     ]
    }
   ],
   "source": [
    "%timeit returns['AAPL'].rolling(252).std()"
   ]
  },
  {
   "cell_type": "markdown",
   "metadata": {},
   "source": [
    "---"
   ]
  },
  {
   "cell_type": "markdown",
   "metadata": {},
   "source": [
    "***Practice:***\n",
    "The Sharpe Ratio is often used to evaluate fund managers.\n",
    "The Sharpe Ratio is $$SR_i = \\frac{\\overline{R_i - R_f}}{\\sigma},$$ where $\\overline{R_i-R_f}$ is mean fund return relative to the risk-free rate over some period and $\\sigma$ is the standard deviation of $R_i-R_f$ over the same period.\n",
    "While the Sharpe Ratio is typically used for funds, we can apply it to a single stock to test our knowledge of the `.rolling()` method.\n",
    "Calculate and plot the one-year rolling Sharpe Ratio for GME using all available daily data.\n",
    "Download GME data from Yahoo! Finance and risk-free rate data from Ken French."
   ]
  },
  {
   "cell_type": "code",
   "execution_count": 102,
   "metadata": {},
   "outputs": [
    {
     "name": "stdout",
     "output_type": "stream",
     "text": [
      "[*********************100%***********************]  1 of 1 completed\n"
     ]
    }
   ],
   "source": [
    "gme = yf.download(tickers='GME', session=session).join(ff, how='inner')"
   ]
  },
  {
   "cell_type": "code",
   "execution_count": 103,
   "metadata": {},
   "outputs": [],
   "source": [
    "gme['Return'] = gme['Adj Close'].pct_change()"
   ]
  },
  {
   "cell_type": "code",
   "execution_count": 104,
   "metadata": {},
   "outputs": [],
   "source": [
    "gme['Excess Return'] = gme['Return'] - gme['RF']"
   ]
  },
  {
   "cell_type": "code",
   "execution_count": 105,
   "metadata": {},
   "outputs": [],
   "source": [
    "def sr(x):\n",
    "    return np.sqrt(252) * x.mean() / x.std()"
   ]
  },
  {
   "cell_type": "code",
   "execution_count": 106,
   "metadata": {},
   "outputs": [
    {
     "data": {
      "image/png": "[encoded data removed]",
      "text/plain": [
       "<Figure size 900x600 with 1 Axes>"
      ]
     },
     "metadata": {
      "needs_background": "light"
     },
     "output_type": "display_data"
    }
   ],
   "source": [
    "gme['Excess Return'].rolling(252).apply(sr).plot()\n",
    "plt.ylabel('Sharpe Ratio')\n",
    "plt.title('252-Trading Day Rolling Sharpe Ratio for GME')\n",
    "plt.show()"
   ]
  },
  {
   "cell_type": "markdown",
   "metadata": {},
   "source": [
    "---"
   ]
  },
  {
   "cell_type": "markdown",
   "metadata": {},
   "source": [
    "The following could be helpful."
   ]
  },
  {
   "cell_type": "code",
   "execution_count": 107,
   "metadata": {},
   "outputs": [
    {
     "name": "stdout",
     "output_type": "stream",
     "text": [
      "1993-02-07 00:00:00               AAPL    MSFT     SPY\n",
      "Date                              \n",
      "1993-02-01  0.0293  0.0114  0.0070\n",
      "1993-02-02 -0.0164  0.0170  0.0020\n",
      "1993-02-03 -0.0043 -0.0071  0.0105\n",
      "1993-02-04 -0.0085 -0.0383  0.0041\n",
      "1993-02-05 -0.0379  0.0469 -0.0008\n",
      "1993-02-14 00:00:00               AAPL    MSFT     SPY\n",
      "Date                              \n",
      "1993-02-08 -0.0132 -0.0366 -0.0001\n",
      "1993-02-09  0.0065 -0.0220 -0.0071\n",
      "1993-02-10 -0.0199  0.0193  0.0013\n",
      "1993-02-11 -0.0113 -0.0030  0.0048\n",
      "1993-02-12 -0.0207 -0.0192 -0.0078\n"
     ]
    }
   ],
   "source": [
    "for date, chunk in excess_returns.iloc[:10].resample('W'):\n",
    "    print(date, chunk)"
   ]
  },
  {
   "cell_type": "markdown",
   "metadata": {},
   "source": [
    "Just like the `.groupby()` and `.resample()` methods, the `.rolling()` method creates an iterator that we can loop over.\n",
    "Note that the `.rolling()` iterator does not return the date or respect the `min_periods` argument.\n",
    "For example, below `excess_returns.iloc[:10]` has ten rows, so the loop returns ten chunks without indicating the `date` like the `.resample()` method does above."
   ]
  },
  {
   "cell_type": "code",
   "execution_count": 108,
   "metadata": {},
   "outputs": [
    {
     "name": "stdout",
     "output_type": "stream",
     "text": [
      "             AAPL   MSFT    SPY\n",
      "Date                           \n",
      "1993-02-01 0.0293 0.0114 0.0070\n",
      "              AAPL   MSFT    SPY\n",
      "Date                            \n",
      "1993-02-01  0.0293 0.0114 0.0070\n",
      "1993-02-02 -0.0164 0.0170 0.0020\n",
      "              AAPL    MSFT    SPY\n",
      "Date                             \n",
      "1993-02-01  0.0293  0.0114 0.0070\n",
      "1993-02-02 -0.0164  0.0170 0.0020\n",
      "1993-02-03 -0.0043 -0.0071 0.0105\n",
      "              AAPL    MSFT    SPY\n",
      "Date                             \n",
      "1993-02-01  0.0293  0.0114 0.0070\n",
      "1993-02-02 -0.0164  0.0170 0.0020\n",
      "1993-02-03 -0.0043 -0.0071 0.0105\n",
      "1993-02-04 -0.0085 -0.0383 0.0041\n",
      "              AAPL    MSFT     SPY\n",
      "Date                              \n",
      "1993-02-01  0.0293  0.0114  0.0070\n",
      "1993-02-02 -0.0164  0.0170  0.0020\n",
      "1993-02-03 -0.0043 -0.0071  0.0105\n",
      "1993-02-04 -0.0085 -0.0383  0.0041\n",
      "1993-02-05 -0.0379  0.0469 -0.0008\n",
      "              AAPL    MSFT     SPY\n",
      "Date                              \n",
      "1993-02-02 -0.0164  0.0170  0.0020\n",
      "1993-02-03 -0.0043 -0.0071  0.0105\n",
      "1993-02-04 -0.0085 -0.0383  0.0041\n",
      "1993-02-05 -0.0379  0.0469 -0.0008\n",
      "1993-02-08 -0.0132 -0.0366 -0.0001\n",
      "              AAPL    MSFT     SPY\n",
      "Date                              \n",
      "1993-02-03 -0.0043 -0.0071  0.0105\n",
      "1993-02-04 -0.0085 -0.0383  0.0041\n",
      "1993-02-05 -0.0379  0.0469 -0.0008\n",
      "1993-02-08 -0.0132 -0.0366 -0.0001\n",
      "1993-02-09  0.0065 -0.0220 -0.0071\n",
      "              AAPL    MSFT     SPY\n",
      "Date                              \n",
      "1993-02-04 -0.0085 -0.0383  0.0041\n",
      "1993-02-05 -0.0379  0.0469 -0.0008\n",
      "1993-02-08 -0.0132 -0.0366 -0.0001\n",
      "1993-02-09  0.0065 -0.0220 -0.0071\n",
      "1993-02-10 -0.0199  0.0193  0.0013\n",
      "              AAPL    MSFT     SPY\n",
      "Date                              \n",
      "1993-02-05 -0.0379  0.0469 -0.0008\n",
      "1993-02-08 -0.0132 -0.0366 -0.0001\n",
      "1993-02-09  0.0065 -0.0220 -0.0071\n",
      "1993-02-10 -0.0199  0.0193  0.0013\n",
      "1993-02-11 -0.0113 -0.0030  0.0048\n",
      "              AAPL    MSFT     SPY\n",
      "Date                              \n",
      "1993-02-08 -0.0132 -0.0366 -0.0001\n",
      "1993-02-09  0.0065 -0.0220 -0.0071\n",
      "1993-02-10 -0.0199  0.0193  0.0013\n",
      "1993-02-11 -0.0113 -0.0030  0.0048\n",
      "1993-02-12 -0.0207 -0.0192 -0.0078\n"
     ]
    }
   ],
   "source": [
    "for chunk in excess_returns.iloc[:10].rolling(5):\n",
    "    print(chunk)"
   ]
  },
  {
   "cell_type": "code",
   "execution_count": null,
   "metadata": {},
   "outputs": [],
   "source": []
  }
 ],
 "metadata": {
  "author": "Richard Herron",
  "kernelspec": {
   "display_name": "Python 3 (ipykernel)",
   "language": "python",
   "name": "python3"
  },
  "language_info": {
   "codemirror_mode": {
    "name": "ipython",
    "version": 3
   },
   "file_extension": ".py",
   "mimetype": "text/x-python",
   "name": "python",
   "nbconvert_exporter": "python",
   "pygments_lexer": "ipython3",
   "version": "3.9.12"
  },
  "title": "McKinney Chapter 11 - Time Series",
  "toc-autonumbering": true
 },
 "nbformat": 4,
 "nbformat_minor": 4
}
