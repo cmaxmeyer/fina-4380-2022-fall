{
 "cells": [
  {
   "cell_type": "markdown",
   "metadata": {},
   "source": [
    "# Key Takeaways\n",
    "\n",
    "Chapter 7 of Eryk Lewinson's [*Python for Finance Cookbook*](https://www.packtpub.com/product/python-for-finance-cookbook/9781789618518) covers portfolios returns and optimization.\n",
    "\n",
    "***The key takeaways from this notebook are:***\n",
    "\n",
    "1. Evaluating $\\frac{1}{n}$ portfolios (i.e., the equal-weighted portfolio)\n",
    "1. Using SciPy's optimizer to find the efficient frontier\n",
    "1. Using SciPy's optimizer to achieve any objective\n",
    "\n",
    "***Note:*** Indented block quotes are from Lewinson, and section numbers differ from Lewinson because we will not discuss every topic."
   ]
  },
  {
   "cell_type": "markdown",
   "metadata": {},
   "source": [
    "I love the topics in Lewinson.\n",
    "However, I will simplify and streamline his code, where possible."
   ]
  },
  {
   "cell_type": "code",
   "execution_count": 1,
   "metadata": {
    "collapsed": false,
    "editable": true,
    "jupyter": {
     "outputs_hidden": false
    }
   },
   "outputs": [],
   "source": [
    "import matplotlib.pyplot as plt\n",
    "import numpy as np\n",
    "import pandas as pd"
   ]
  },
  {
   "cell_type": "code",
   "execution_count": 2,
   "metadata": {},
   "outputs": [],
   "source": [
    "plt.rcParams['figure.dpi'] = 150\n",
    "np.set_printoptions(precision=4, suppress=True)\n",
    "pd.options.display.float_format = '{:.4f}'.format"
   ]
  },
  {
   "cell_type": "code",
   "execution_count": 3,
   "metadata": {},
   "outputs": [],
   "source": [
    "import yfinance as yf\n",
    "import pandas_datareader as pdr\n",
    "import requests_cache\n",
    "session = requests_cache.CachedSession(expire_after='1D')"
   ]
  },
  {
   "cell_type": "markdown",
   "metadata": {},
   "source": [
    "# Evaluating the performance of a basic 1/n portfolio"
   ]
  },
  {
   "cell_type": "markdown",
   "metadata": {},
   "source": [
    "> We begin with inspecting the most basic asset allocation strategy: the 1/n portfolio. The idea is to assign equal weights to all the considered assets, thus diversifying the portfolio. As simple as that might sound, DeMiguel, Garlappi, and Uppal (2007) show that it can be difficult to beat the performance of the 1/n portfolio by using more advanced asset allocation strategies.\n",
    ">\n",
    "> The goal of the recipe is to show how to create a 1/n portfolio, calculate its returns, and then use a Python library called pyfolio to quickly obtain all relevant portfolio evaluation metrics in the form of a tear sheet. Historically, a tear sheet is a concise, usually one-page, document, summarizing important information about public companies.\n",
    "\n",
    "We will not use `pyfolio`, which appears to be abandoned."
   ]
  },
  {
   "cell_type": "markdown",
   "metadata": {},
   "source": [
    "We will follow Lewinson's structure, although I prefer to download all data.\n",
    "These data are small (kilobytes instead of megabytes or gigabytes), so we might as well download all data then subset when necessary."
   ]
  },
  {
   "cell_type": "code",
   "execution_count": 4,
   "metadata": {
    "ExecuteTime": {
     "end_time": "2020-01-27T22:39:57.697465Z",
     "start_time": "2020-01-27T22:39:57.694109Z"
    }
   },
   "outputs": [],
   "source": [
    "RISKY_ASSETS = ['AAPL', 'IBM', 'MSFT', 'TWTR']\n",
    "START_DATE = '2017-01-01'\n",
    "END_DATE = '2018-12-31'"
   ]
  },
  {
   "cell_type": "code",
   "execution_count": 5,
   "metadata": {
    "ExecuteTime": {
     "end_time": "2020-01-27T22:40:05.074684Z",
     "start_time": "2020-01-27T22:40:00.619657Z"
    }
   },
   "outputs": [
    {
     "name": "stdout",
     "output_type": "stream",
     "text": [
      "[*********************100%***********************]  4 of 4 completed\n"
     ]
    }
   ],
   "source": [
    "df = yf.download(tickers=RISKY_ASSETS, session=session)"
   ]
  },
  {
   "cell_type": "code",
   "execution_count": 6,
   "metadata": {
    "ExecuteTime": {
     "end_time": "2019-12-06T18:05:52.060088Z",
     "start_time": "2019-12-06T18:05:52.047752Z"
    }
   },
   "outputs": [],
   "source": [
    "returns = df.loc[START_DATE:END_DATE, 'Adj Close'].pct_change().dropna()"
   ]
  },
  {
   "cell_type": "markdown",
   "metadata": {},
   "source": [
    "Before we do any math, let us try to make $\\frac{1}{n}$ portfolios \"by hand\"."
   ]
  },
  {
   "cell_type": "code",
   "execution_count": 7,
   "metadata": {},
   "outputs": [],
   "source": [
    "p1 = 0.25*returns['AAPL'] + 0.25*returns['IBM'] + 0.25*returns['MSFT'] + 0.25*returns['TWTR']"
   ]
  },
  {
   "cell_type": "code",
   "execution_count": 8,
   "metadata": {},
   "outputs": [],
   "source": [
    "p2 = 0.25 * returns.sum(axis=1)"
   ]
  },
  {
   "cell_type": "code",
   "execution_count": 9,
   "metadata": {},
   "outputs": [
    {
     "data": {
      "text/plain": [
       "True"
      ]
     },
     "execution_count": 9,
     "metadata": {},
     "output_type": "execute_result"
    }
   ],
   "source": [
    "np.allclose(p1, p2)"
   ]
  },
  {
   "cell_type": "code",
   "execution_count": 10,
   "metadata": {},
   "outputs": [],
   "source": [
    "p3 = returns.mean(axis=1)"
   ]
  },
  {
   "cell_type": "code",
   "execution_count": 11,
   "metadata": {},
   "outputs": [
    {
     "data": {
      "text/plain": [
       "True"
      ]
     },
     "execution_count": 11,
     "metadata": {},
     "output_type": "execute_result"
    }
   ],
   "source": [
    "np.allclose(p1, p3)"
   ]
  },
  {
   "cell_type": "markdown",
   "metadata": {},
   "source": [
    "***Note that when we do this type of calculation, we rebalance at the same frequency as the returns data.***\n",
    "If we have daily data, rebalance daily.\n",
    "If we have monthly data, we rebalance monthly, and so on."
   ]
  },
  {
   "cell_type": "markdown",
   "metadata": {},
   "source": [
    "I prefer to define the portfolio weights *after* we calculate returns.\n",
    "This approach makes sure that we define the portfolio weights based on available data (i.e., the data we received, instead of the data we asked for)."
   ]
  },
  {
   "cell_type": "code",
   "execution_count": 12,
   "metadata": {},
   "outputs": [
    {
     "data": {
      "text/plain": [
       "(501, 4)"
      ]
     },
     "execution_count": 12,
     "metadata": {},
     "output_type": "execute_result"
    }
   ],
   "source": [
    "returns.shape"
   ]
  },
  {
   "cell_type": "code",
   "execution_count": 13,
   "metadata": {
    "ExecuteTime": {
     "end_time": "2019-12-06T18:05:52.066465Z",
     "start_time": "2019-12-06T18:05:52.063494Z"
    }
   },
   "outputs": [],
   "source": [
    "portfolio_weights = np.ones(returns.shape[1]) / returns.shape[1]"
   ]
  },
  {
   "cell_type": "code",
   "execution_count": 14,
   "metadata": {},
   "outputs": [
    {
     "data": {
      "text/plain": [
       "array([0.25, 0.25, 0.25, 0.25])"
      ]
     },
     "execution_count": 14,
     "metadata": {},
     "output_type": "execute_result"
    }
   ],
   "source": [
    "portfolio_weights"
   ]
  },
  {
   "cell_type": "markdown",
   "metadata": {},
   "source": [
    "I prefer a different notation to calculate returns.\n",
    "The following notation is more compact than Lewinson's notation and generates the same output.\n",
    "$$R_P = \\omega^T R,$$ where $R_P$ is a vector of portfolio returns, $\\omega$ is a vector of portfolio weights, and $R$ is a matrix of individual stock or asset returns."
   ]
  },
  {
   "cell_type": "code",
   "execution_count": 15,
   "metadata": {
    "ExecuteTime": {
     "end_time": "2019-12-06T18:05:52.072256Z",
     "start_time": "2019-12-06T18:05:52.068898Z"
    }
   },
   "outputs": [],
   "source": [
    "portfolio_returns = returns.dot(portfolio_weights)"
   ]
  },
  {
   "cell_type": "code",
   "execution_count": 16,
   "metadata": {},
   "outputs": [
    {
     "data": {
      "text/plain": [
       "True"
      ]
     },
     "execution_count": 16,
     "metadata": {},
     "output_type": "execute_result"
    }
   ],
   "source": [
    "np.allclose(p1, portfolio_returns)"
   ]
  },
  {
   "cell_type": "markdown",
   "metadata": {},
   "source": [
    "Here are some silly data to help understand the `.dot()` method."
   ]
  },
  {
   "cell_type": "code",
   "execution_count": 17,
   "metadata": {},
   "outputs": [],
   "source": [
    "silly = pd.DataFrame(np.arange(8).reshape(2, 4))"
   ]
  },
  {
   "cell_type": "code",
   "execution_count": 18,
   "metadata": {},
   "outputs": [
    {
     "data": {
      "text/html": [
       "<div>\n",
       "<style scoped>\n",
       "    .dataframe tbody tr th:only-of-type {\n",
       "        vertical-align: middle;\n",
       "    }\n",
       "\n",
       "    .dataframe tbody tr th {\n",
       "        vertical-align: top;\n",
       "    }\n",
       "\n",
       "    .dataframe thead th {\n",
       "        text-align: right;\n",
       "    }\n",
       "</style>\n",
       "<table border=\"1\" class=\"dataframe\">\n",
       "  <thead>\n",
       "    <tr style=\"text-align: right;\">\n",
       "      <th></th>\n",
       "      <th>0</th>\n",
       "      <th>1</th>\n",
       "      <th>2</th>\n",
       "      <th>3</th>\n",
       "    </tr>\n",
       "  </thead>\n",
       "  <tbody>\n",
       "    <tr>\n",
       "      <th>0</th>\n",
       "      <td>0</td>\n",
       "      <td>1</td>\n",
       "      <td>2</td>\n",
       "      <td>3</td>\n",
       "    </tr>\n",
       "    <tr>\n",
       "      <th>1</th>\n",
       "      <td>4</td>\n",
       "      <td>5</td>\n",
       "      <td>6</td>\n",
       "      <td>7</td>\n",
       "    </tr>\n",
       "  </tbody>\n",
       "</table>\n",
       "</div>"
      ],
      "text/plain": [
       "   0  1  2  3\n",
       "0  0  1  2  3\n",
       "1  4  5  6  7"
      ]
     },
     "execution_count": 18,
     "metadata": {},
     "output_type": "execute_result"
    }
   ],
   "source": [
    "silly"
   ]
  },
  {
   "cell_type": "code",
   "execution_count": 19,
   "metadata": {},
   "outputs": [
    {
     "data": {
      "text/plain": [
       "0   1.5000\n",
       "1   5.5000\n",
       "dtype: float64"
      ]
     },
     "execution_count": 19,
     "metadata": {},
     "output_type": "execute_result"
    }
   ],
   "source": [
    "silly.dot(portfolio_weights)"
   ]
  },
  {
   "cell_type": "code",
   "execution_count": 20,
   "metadata": {},
   "outputs": [],
   "source": [
    "silly_weights = np.array([1, 0, 0, 0])"
   ]
  },
  {
   "cell_type": "code",
   "execution_count": 21,
   "metadata": {},
   "outputs": [
    {
     "data": {
      "text/plain": [
       "0    0\n",
       "1    4\n",
       "dtype: int64"
      ]
     },
     "execution_count": 21,
     "metadata": {},
     "output_type": "execute_result"
    }
   ],
   "source": [
    "silly.dot(silly_weights)"
   ]
  },
  {
   "cell_type": "markdown",
   "metadata": {},
   "source": [
    "---"
   ]
  },
  {
   "cell_type": "markdown",
   "metadata": {},
   "source": [
    "***Practice:***\n",
    "Write functions for the following performance measures that Lewinson discusses:\n",
    "\n",
    "> - Sharpe ratio: One of the most popular performance evaluation metrics, it measures the excess return (over the risk-free rate) per unit of standard deviation. When no risk-free rate is provided, the default assumption is that it is equal to 0%. The greater the Sharpe ratio, the better the portfolio's risk-adjusted performance.\n",
    "> - Max drawdown: A metric of the downside risk of a portfolio, it measures the largest peak-to-valley loss (expressed as a percentage) during the course of the investment. The lower the maximum drawdown, the better.\n",
    "> - Calmar ratio: The ratio is defined as the average annual compounded rate of return divided by the maximum drawdown for that same time period. The higher the ratio, the better.\n",
    "> - Stability: Measured as the R-squared of a linear fit to the cumulative log returns. In practice, this means regressing a range of integers (serving as the time index) on cumulative log returns.\n",
    "> - Omega ratio: The probability-weighted ratio of gains over losses for a determined return target threshold (default set to 0). Its main advantage over the Sharpe ratio is that the Omega ratio—by construction—considers all moments of the returns distribution, while the former only considers the first two (mean and variance).\n",
    "> - Sortino ratio: A modified version of the Sharpe ratio, where the standard deviation in the denominator is replaced with downside deviation.\n",
    "> - Skew: Skewness measures the degree of asymmetry, that is, how much is the given distribution (here, of portfolio returns) more skewed than the Normal distribution. Negative skewness (left-skewed distributions) means  that large negative returns occur more frequently than large positive ones.\n",
    "> - Kurtosis: Measures extreme values in either of the tails. Distributions with large kurtosis exhibit tail data exceeding the tails of the Gaussian distribution, meaning that large and small returns occur more frequently.\n",
    "> - Tail ratio: The ratio (absolute) between the 95th and 5th percentile of the daily returns. A tail ratio of ~0.8 means that losses are ~1.25 times as bad as profits.\n",
    "> - Daily value at risk: Calculated as $\\mu - 2\\sigma$, where $\\mu$ is the average portfolio return over the period, and $\\sigma$ the corresponding standard deviation.\n",
    "\n",
    "Here are some tips:\n",
    "\n",
    "1. Write functions that return decimal returns\n",
    "1. For performance measures with benchmarks or targets, set the default to the risk-free rate of return from Ken French\n",
    "1. Call these functions the lower-case version of the entry name with underscores instead of spaces\n",
    "\n",
    "Also add:\n",
    "\n",
    "1. Total return\n",
    "1. Annual geometric mean return\n",
    "1. Annual volatility"
   ]
  },
  {
   "cell_type": "code",
   "execution_count": 22,
   "metadata": {},
   "outputs": [],
   "source": [
    "ff_all = pdr.get_data_famafrench('F-F_Research_Data_Factors_daily', start='1900', session=session)\n",
    "ff = ff_all[0] / 100"
   ]
  },
  {
   "cell_type": "code",
   "execution_count": 23,
   "metadata": {},
   "outputs": [],
   "source": [
    "def sharpe_ratio(ri, tgt):\n",
    "    ri_tgt = (ri - tgt).dropna()\n",
    "    return np.sqrt(252) * ri_tgt.mean() / ri_tgt.std()"
   ]
  },
  {
   "cell_type": "code",
   "execution_count": 24,
   "metadata": {},
   "outputs": [],
   "source": [
    "def drawdown(ri):\n",
    "    implied_price = (1 + ri).cumprod()\n",
    "    return implied_price / implied_price.cummax() - 1"
   ]
  },
  {
   "cell_type": "code",
   "execution_count": 25,
   "metadata": {},
   "outputs": [],
   "source": [
    "def max_drawdown(ri):\n",
    "    return drawdown(ri).min() # use .min() because drawdown() is negative"
   ]
  },
  {
   "cell_type": "markdown",
   "metadata": {},
   "source": [
    "***Note:*** Above we define maximum drawdown in terms of returns, which removes concerns about price drops due to either dividends or splits.\n",
    "We will get very similar results (if not identical results) if we define maximum drawdown in terms of prices. "
   ]
  },
  {
   "cell_type": "code",
   "execution_count": 26,
   "metadata": {},
   "outputs": [
    {
     "data": {
      "text/plain": [
       "-0.3650953675219797"
      ]
     },
     "execution_count": 26,
     "metadata": {},
     "output_type": "execute_result"
    }
   ],
   "source": [
    "max_drawdown(returns['AAPL'])"
   ]
  },
  {
   "cell_type": "code",
   "execution_count": 27,
   "metadata": {},
   "outputs": [
    {
     "data": {
      "text/plain": [
       "-0.36509536752198"
      ]
     },
     "execution_count": 27,
     "metadata": {},
     "output_type": "execute_result"
    }
   ],
   "source": [
    "_ = df.loc[START_DATE:END_DATE, ('Adj Close', 'AAPL')]\n",
    "_.div(_.cummax()).sub(1).min()"
   ]
  },
  {
   "cell_type": "code",
   "execution_count": 28,
   "metadata": {},
   "outputs": [
    {
     "data": {
      "text/plain": [
       "-0.36730298100985337"
      ]
     },
     "execution_count": 28,
     "metadata": {},
     "output_type": "execute_result"
    }
   ],
   "source": [
    "_ = df.loc[START_DATE:END_DATE, ('Close', 'AAPL')]\n",
    "_.div(_.cummax()).sub(1).min()"
   ]
  },
  {
   "cell_type": "code",
   "execution_count": 29,
   "metadata": {},
   "outputs": [],
   "source": [
    "def cagr(ri):\n",
    "    T = ri.shape[0]\n",
    "    return (1 + ri).prod() ** (252/T) - 1"
   ]
  },
  {
   "cell_type": "code",
   "execution_count": 30,
   "metadata": {},
   "outputs": [],
   "source": [
    "def calmar_ratio(ri):\n",
    "    return cagr(ri) / (-1 * max_drawdown(ri))"
   ]
  },
  {
   "cell_type": "code",
   "execution_count": 31,
   "metadata": {},
   "outputs": [],
   "source": [
    "def stability(ri):\n",
    "    cumlogri = np.log(1 + ri).cumsum()\n",
    "    time = np.arange(cumlogri.shape[0])\n",
    "    df = pd.DataFrame({'cumlogri': cumlogri, 'time': time})\n",
    "    import statsmodels.formula.api as smf\n",
    "    fit = smf.ols(formula='cumlogri ~ time', data=df).fit()\n",
    "    return fit.rsquared"
   ]
  },
  {
   "cell_type": "code",
   "execution_count": 32,
   "metadata": {},
   "outputs": [],
   "source": [
    "def sortino_ratio(ri, tgt):\n",
    "    ri_tgt = (ri - tgt).dropna()\n",
    "    ri_tgt_downside = ri_tgt.loc[ri_tgt < 0]\n",
    "    return np.sqrt(252) * ri_tgt.mean() / ri_tgt_downside.std()"
   ]
  },
  {
   "cell_type": "code",
   "execution_count": 33,
   "metadata": {},
   "outputs": [],
   "source": [
    "def tail_ratio(ri):\n",
    "    return np.abs(ri.quantile(0.95) / ri.quantile(0.05))"
   ]
  },
  {
   "cell_type": "code",
   "execution_count": 34,
   "metadata": {},
   "outputs": [],
   "source": [
    "def daily_var(ri):\n",
    "    return ri.mean() - 2 * ri.std()"
   ]
  },
  {
   "cell_type": "code",
   "execution_count": 35,
   "metadata": {},
   "outputs": [],
   "source": [
    "def ann_std(ri):\n",
    "    return np.sqrt(252) * ri.std()"
   ]
  },
  {
   "cell_type": "code",
   "execution_count": 36,
   "metadata": {},
   "outputs": [],
   "source": [
    "def total_return(ri):\n",
    "    return (1 + ri).prod() - 1"
   ]
  },
  {
   "cell_type": "markdown",
   "metadata": {},
   "source": [
    "***Practice:***\n",
    "Write a `tear_sheet()` function that tabulates average annual returns, cumulative returns, annual volatility, and the performance measures in the previous practice."
   ]
  },
  {
   "cell_type": "code",
   "execution_count": 37,
   "metadata": {},
   "outputs": [],
   "source": [
    "def tear_sheet(ri, tgt):\n",
    "    name = ri.name\n",
    "    begin = ri.index[0].strftime('%Y-%m-%d')\n",
    "    end = ri.index[-1].strftime('%Y-%m-%d')\n",
    "\n",
    "    df = pd.Series({\n",
    "        'Name': name,\n",
    "        'Begin': begin,\n",
    "        'End': end,\n",
    "        'Total Return (%)': 100 * total_return(ri=ri),\n",
    "        'CAGR (%)': 100 * cagr(ri=ri),\n",
    "        'Annual Volatility (%)': 100 * ann_std(ri=ri),\n",
    "        'Sharpe Ratio': sharpe_ratio(ri=ri, tgt=tgt),\n",
    "        'Max Drawdown (%)': 100 * max_drawdown(ri=ri),\n",
    "        'Calmar Ratio': calmar_ratio(ri=ri),\n",
    "        'Stability': stability(ri=ri),\n",
    "        'Sortino Ratio': sortino_ratio(ri=ri, tgt=tgt),\n",
    "        'Skew': ri.skew(),\n",
    "        'Kurtosis': ri.kurt(),\n",
    "        'Tail Ratio': tail_ratio(ri=ri),\n",
    "        'Daily VaR (%)': 100 * daily_var(ri=ri),\n",
    "    }).to_frame(name='Value')\n",
    "    df.index.name = 'Performance Measure'\n",
    "    \n",
    "    return df"
   ]
  },
  {
   "cell_type": "code",
   "execution_count": 38,
   "metadata": {},
   "outputs": [
    {
     "data": {
      "text/html": [
       "<div>\n",
       "<style scoped>\n",
       "    .dataframe tbody tr th:only-of-type {\n",
       "        vertical-align: middle;\n",
       "    }\n",
       "\n",
       "    .dataframe tbody tr th {\n",
       "        vertical-align: top;\n",
       "    }\n",
       "\n",
       "    .dataframe thead th {\n",
       "        text-align: right;\n",
       "    }\n",
       "</style>\n",
       "<table border=\"1\" class=\"dataframe\">\n",
       "  <thead>\n",
       "    <tr style=\"text-align: right;\">\n",
       "      <th></th>\n",
       "      <th>Value</th>\n",
       "    </tr>\n",
       "    <tr>\n",
       "      <th>Performance Measure</th>\n",
       "      <th></th>\n",
       "    </tr>\n",
       "  </thead>\n",
       "  <tbody>\n",
       "    <tr>\n",
       "      <th>Name</th>\n",
       "      <td>AAPL</td>\n",
       "    </tr>\n",
       "    <tr>\n",
       "      <th>Begin</th>\n",
       "      <td>2017-01-04</td>\n",
       "    </tr>\n",
       "    <tr>\n",
       "      <th>End</th>\n",
       "      <td>2018-12-31</td>\n",
       "    </tr>\n",
       "    <tr>\n",
       "      <th>Total Return (%)</th>\n",
       "      <td>40.0628</td>\n",
       "    </tr>\n",
       "    <tr>\n",
       "      <th>CAGR (%)</th>\n",
       "      <td>18.4676</td>\n",
       "    </tr>\n",
       "    <tr>\n",
       "      <th>Annual Volatility (%)</th>\n",
       "      <td>23.8711</td>\n",
       "    </tr>\n",
       "    <tr>\n",
       "      <th>Sharpe Ratio</th>\n",
       "      <td>0.7743</td>\n",
       "    </tr>\n",
       "    <tr>\n",
       "      <th>Max Drawdown (%)</th>\n",
       "      <td>-36.5095</td>\n",
       "    </tr>\n",
       "    <tr>\n",
       "      <th>Calmar Ratio</th>\n",
       "      <td>0.5058</td>\n",
       "    </tr>\n",
       "    <tr>\n",
       "      <th>Stability</th>\n",
       "      <td>0.7754</td>\n",
       "    </tr>\n",
       "    <tr>\n",
       "      <th>Sortino Ratio</th>\n",
       "      <td>1.0451</td>\n",
       "    </tr>\n",
       "    <tr>\n",
       "      <th>Skew</th>\n",
       "      <td>0.0027</td>\n",
       "    </tr>\n",
       "    <tr>\n",
       "      <th>Kurtosis</th>\n",
       "      <td>3.3663</td>\n",
       "    </tr>\n",
       "    <tr>\n",
       "      <th>Tail Ratio</th>\n",
       "      <td>0.8686</td>\n",
       "    </tr>\n",
       "    <tr>\n",
       "      <th>Daily VaR (%)</th>\n",
       "      <td>-2.9289</td>\n",
       "    </tr>\n",
       "  </tbody>\n",
       "</table>\n",
       "</div>"
      ],
      "text/plain": [
       "                            Value\n",
       "Performance Measure              \n",
       "Name                         AAPL\n",
       "Begin                  2017-01-04\n",
       "End                    2018-12-31\n",
       "Total Return (%)          40.0628\n",
       "CAGR (%)                  18.4676\n",
       "Annual Volatility (%)     23.8711\n",
       "Sharpe Ratio               0.7743\n",
       "Max Drawdown (%)         -36.5095\n",
       "Calmar Ratio               0.5058\n",
       "Stability                  0.7754\n",
       "Sortino Ratio              1.0451\n",
       "Skew                       0.0027\n",
       "Kurtosis                   3.3663\n",
       "Tail Ratio                 0.8686\n",
       "Daily VaR (%)             -2.9289"
      ]
     },
     "execution_count": 38,
     "metadata": {},
     "output_type": "execute_result"
    }
   ],
   "source": [
    "tear_sheet(ri=returns['AAPL'], tgt=ff['RF'])"
   ]
  },
  {
   "cell_type": "markdown",
   "metadata": {},
   "source": [
    "---"
   ]
  },
  {
   "cell_type": "markdown",
   "metadata": {
    "tags": []
   },
   "source": [
    "# Finding the Efficient Frontier using Monte Carlo simulations"
   ]
  },
  {
   "cell_type": "markdown",
   "metadata": {},
   "source": [
    "> According to the Modern Portfolio Theory, the Efficient Frontier is a set of optimal portfolios in the risk-return spectrum. This means that the portfolios on the frontier:\n",
    "> \n",
    "> - Offer the highest expected return for a given level of risk\n",
    "> - Offer the lowest level of risk for a given level of expected returns\n",
    "> \n",
    "> All portfolios located under the Efficient Frontier curve are considered sub-optimal, so it is always better to choose the ones on the frontier instead.\n",
    "> \n",
    "> In this recipe, we show how to find the Efficient Frontier using Monte Carlo simulations. We build thousands of portfolios, using randomly assigned weights, and visualize the results. To do so, we use the returns of four US tech companies from 2018."
   ]
  },
  {
   "cell_type": "markdown",
   "metadata": {},
   "source": [
    "We will skip Lewinson's Monte Carlo simulation of the efficient frontier.\n",
    "For some students, this simulation is enlightening.\n",
    "However, for many students, it creates bad habits.\n",
    "Therefore, we will jump right to using the optimizer to find the efficient frontier."
   ]
  },
  {
   "cell_type": "markdown",
   "metadata": {},
   "source": [
    "# First, a crash course in scipy's minimize() function"
   ]
  },
  {
   "cell_type": "markdown",
   "metadata": {},
   "source": [
    "The `sco.minimize()` function iteratively finds the input array `x` that minimizes the output of function `fun`.\n",
    "We pass our first guess for the input array `x` to the argument `x0=`.\n",
    "We pass additional arguments for the function `fun` as a tuple to the argument `args=`.\n",
    "We pass the lower and upper bounds on `x` as a tuple of tuples to the argument `bounds=`.\n",
    "We contrain our results with a tuple of dictionaries of functions to the argument`contraints=`.\n",
    "\n",
    "Here is a simple example that minimizes the `quadratic()` function $y = (x - a)^2$ where $a=5$."
   ]
  },
  {
   "cell_type": "code",
   "execution_count": 39,
   "metadata": {
    "ExecuteTime": {
     "end_time": "2020-01-27T23:15:25.643290Z",
     "start_time": "2020-01-27T23:15:25.640591Z"
    }
   },
   "outputs": [],
   "source": [
    "import scipy.optimize as sco"
   ]
  },
  {
   "cell_type": "code",
   "execution_count": 40,
   "metadata": {},
   "outputs": [],
   "source": [
    "def quadratic(x, a=5):\n",
    "    return (x - a) ** 2"
   ]
  },
  {
   "cell_type": "markdown",
   "metadata": {},
   "source": [
    "Without bounds, we find the minimum output of `quadratic()` occurs at $x=5$."
   ]
  },
  {
   "cell_type": "code",
   "execution_count": 41,
   "metadata": {},
   "outputs": [
    {
     "data": {
      "text/plain": [
       "      fun: 2.0392713450495178e-16\n",
       " hess_inv: array([[0.5]])\n",
       "      jac: array([-0.])\n",
       "  message: 'Optimization terminated successfully.'\n",
       "     nfev: 18\n",
       "      nit: 4\n",
       "     njev: 9\n",
       "   status: 0\n",
       "  success: True\n",
       "        x: array([5.])"
      ]
     },
     "execution_count": 41,
     "metadata": {},
     "output_type": "execute_result"
    }
   ],
   "source": [
    "sco.minimize(\n",
    "    fun=quadratic,\n",
    "    x0=np.array([2001])\n",
    ")"
   ]
  },
  {
   "cell_type": "markdown",
   "metadata": {},
   "source": [
    "The minimum output of `quadratic()` occurs at $x=6$ if we bound `x` between 6 and 10 (i.e., $6 \\leq x \\leq 10$)."
   ]
  },
  {
   "cell_type": "code",
   "execution_count": 42,
   "metadata": {},
   "outputs": [
    {
     "data": {
      "text/plain": [
       "      fun: array([1.])\n",
       " hess_inv: <1x1 LbfgsInvHessProduct with dtype=float64>\n",
       "      jac: array([2.])\n",
       "  message: 'CONVERGENCE: NORM_OF_PROJECTED_GRADIENT_<=_PGTOL'\n",
       "     nfev: 4\n",
       "      nit: 1\n",
       "     njev: 2\n",
       "   status: 0\n",
       "  success: True\n",
       "        x: array([6.])"
      ]
     },
     "execution_count": 42,
     "metadata": {},
     "output_type": "execute_result"
    }
   ],
   "source": [
    "sco.minimize(\n",
    "    fun=quadratic,\n",
    "    x0=np.array([2001]),\n",
    "    bounds=((6, 10),)\n",
    ")"
   ]
  },
  {
   "cell_type": "markdown",
   "metadata": {},
   "source": [
    "Next we will learn about constraints."
   ]
  },
  {
   "cell_type": "markdown",
   "metadata": {},
   "source": [
    "# Finding the Efficient Frontier using optimization with scipy"
   ]
  },
  {
   "cell_type": "markdown",
   "metadata": {},
   "source": [
    "> In the previous recipe, Finding the Efficient Frontier using Monte Carlo simulations, we used a brute-force approach based on Monte Carlo simulations to visualize the Efficient Frontier. In this recipe, we use a more refined method to determine the frontier.\n",
    "> \n",
    "> From its definition, the Efficient Frontier is formed by a set of portfolios offering the highest expected portfolio return for a certain volatility, or offering the lowest risk (volatility) for a certain level of expected returns. We can leverage this fact, and use it in numerical optimization. The goal of optimization is to find the best (optimal) value of the objective function by adjusting the target variables and taking into account some boundaries and constraints (which have an impact on the target variables). In this case, the objective function is a function returning portfolio volatility, and the target variables are portfolio weights.\n",
    "> \n",
    "> Mathematically, the problem can be expressed as: $$\\min \\omega^T \\Sigma \\omega$$ s.t. $$\\omega^T \\textbf{1} = 1$$ $$\\omega \\geq 0$$ $$\\omega^T \\mu = \\mu_P$$\n",
    ">\n",
    "> Here, $\\omega$ is a vector of weights, $\\Sigma$ is the covariance matrix, $\\mu$ is a vector of returns, $\\mu_P$ and is the expected portfolio return.\n",
    "> \n",
    "> We iterate the optimization routine used for finding the optimal portfolio weights over a range of expected portfolio returns, and this results in the Efficient Frontier."
   ]
  },
  {
   "cell_type": "markdown",
   "metadata": {},
   "source": [
    "We optimize our portfolios (i.e., minimize portfolio variance subject to contraints) with SciPy's optimize module."
   ]
  },
  {
   "cell_type": "markdown",
   "metadata": {},
   "source": [
    "We will skip Lewinson's helper functions because they require calculating new $\\mu$ (mean return vectors) and $\\Sigma$ (variance-covariance matrices) for every sample.\n",
    "Calculating $\\mu$ and $\\Sigma$ once per sample then using his helper functions is more computationally efficient than the approach we will use below.\n",
    "However, the time saved is very, very small on a modern computer (typically milliseconds), and managing samples, mean return vectors, variance-covariance matrices, and helper functions complicates these calculations.\n",
    "\n",
    "Instead we will:\n",
    "\n",
    "1. Calculate portfolio returns ($\\mu_P$ or $R_P$) as we did above (`returns.dot(weights)`)\n",
    "1. Caclulate anything we want to minimize by calculating it directly from portfolio returns\n",
    "\n",
    "For example, if we want to minimize volatility, we can use the `.std()` method on the series of portfolio returns `returns.dot(weights)`.\n",
    "If we want to *maximize* the Sharpe Ratio, we have to minimize negative one times the Sharpe Ratio because optimizers are designed to minimize only."
   ]
  },
  {
   "cell_type": "code",
   "execution_count": 43,
   "metadata": {},
   "outputs": [],
   "source": [
    "res_mv = sco.minimize(\n",
    "    fun=lambda x: np.sqrt(252) * returns.dot(x).std(), # function we want to minimize the output of\n",
    "    x0=np.ones(returns.shape[1]) / returns.shape[1], # first set of portfolio weights\n",
    "    bounds=tuple((0,1) for c in returns.columns), # bounds for each portfolio weight\n",
    "    constraints=(\n",
    "        {'type': 'eq', 'fun': lambda x: np.sum(x) - 1} # we want this lambda function to evaluate to 0\n",
    "    )\n",
    ")\n",
    "assert res_mv['success'] # we want to make sure sco.minimize() succeeded"
   ]
  },
  {
   "cell_type": "code",
   "execution_count": 44,
   "metadata": {},
   "outputs": [
    {
     "data": {
      "text/plain": [
       "     fun: 0.1767745046514236\n",
       "     jac: array([0.1768, 0.1767, 0.1769, 0.1776])\n",
       " message: 'Optimization terminated successfully'\n",
       "    nfev: 40\n",
       "     nit: 8\n",
       "    njev: 8\n",
       "  status: 0\n",
       " success: True\n",
       "       x: array([0.2571, 0.5174, 0.218 , 0.0075])"
      ]
     },
     "execution_count": 44,
     "metadata": {},
     "output_type": "execute_result"
    }
   ],
   "source": [
    "res_mv"
   ]
  },
  {
   "cell_type": "markdown",
   "metadata": {},
   "source": [
    "What are the attributes of this minimum variance portfolio?"
   ]
  },
  {
   "cell_type": "code",
   "execution_count": 45,
   "metadata": {},
   "outputs": [],
   "source": [
    "def print_port_res(w, title, df=returns):\n",
    "    print(\n",
    "        title,\n",
    "        len(title) * '=',\n",
    "        '',\n",
    "        'Performance',\n",
    "        '-----------',\n",
    "        'Return:       {:0.4f}'.format(252 * df.dot(w).mean()),\n",
    "        'Volatility:   {:0.4f}'.format(np.sqrt(252) * df.dot(w).std()),\n",
    "        'Sharpe Ratio: {:0.4f}'.format(sharpe_ratio(ri=df.dot(w), tgt=ff['RF'])),\n",
    "        '',\n",
    "        sep='\\n'\n",
    "    )\n",
    "\n",
    "    print('Weights', '-------', sep='\\n')\n",
    "    for i, j in zip(df.columns, w):\n",
    "        print((i + ':').ljust(14) + '{:0.4f}'.format(j))\n"
   ]
  },
  {
   "cell_type": "code",
   "execution_count": 46,
   "metadata": {},
   "outputs": [
    {
     "name": "stdout",
     "output_type": "stream",
     "text": [
      "Minimum Variance Portfolio\n",
      "==========================\n",
      "\n",
      "Performance\n",
      "-----------\n",
      "Return:       0.0490\n",
      "Volatility:   0.1768\n",
      "Sharpe Ratio: 0.2031\n",
      "\n",
      "Weights\n",
      "-------\n",
      "AAPL:         0.2571\n",
      "IBM:          0.5174\n",
      "MSFT:         0.2180\n",
      "TWTR:         0.0075\n"
     ]
    }
   ],
   "source": [
    "print_port_res(res_mv['x'], 'Minimum Variance Portfolio')"
   ]
  },
  {
   "cell_type": "markdown",
   "metadata": {},
   "source": [
    "Here is an equivalent solution that uses a simple helper function.\n",
    "This helper is simpler than Lewinson's because it does not require a new return mean array and a new variance-covariance matrix for every sample.\n",
    "Instead, we pass a series of portfolio returns re-calculate the means and variances every iteration, which is only slightly slower."
   ]
  },
  {
   "cell_type": "code",
   "execution_count": 47,
   "metadata": {},
   "outputs": [],
   "source": [
    "def port_std(w, rs):\n",
    "    return np.sqrt(252) * rs.dot(w).std()"
   ]
  },
  {
   "cell_type": "code",
   "execution_count": 48,
   "metadata": {},
   "outputs": [],
   "source": [
    "res = sco.minimize(\n",
    "    fun=port_std, # we want to minimize portfolio volatility\n",
    "    x0=np.ones(returns.shape[1]) / returns.shape[1], # x0 contains our first guess at portfolio weights\n",
    "    args=(returns, ), # args provides additional argument to the function we will minimize\n",
    "    bounds=((0, 1), (0, 1), (0, 1), (0, 1)), # bounds limits the search space for portfolio weights\n",
    "    constraints=(\n",
    "        {'type': 'eq', 'fun': lambda x: x.sum() - 1} # \"eq\" constraints are driven to zero\n",
    "    )\n",
    ")\n",
    "assert res['success']"
   ]
  },
  {
   "cell_type": "code",
   "execution_count": 49,
   "metadata": {},
   "outputs": [
    {
     "name": "stdout",
     "output_type": "stream",
     "text": [
      "Minimum Variance Portfolio (Found with Helper Function)\n",
      "=======================================================\n",
      "\n",
      "Performance\n",
      "-----------\n",
      "Return:       0.0490\n",
      "Volatility:   0.1768\n",
      "Sharpe Ratio: 0.2031\n",
      "\n",
      "Weights\n",
      "-------\n",
      "AAPL:         0.2571\n",
      "IBM:          0.5174\n",
      "MSFT:         0.2180\n",
      "TWTR:         0.0075\n"
     ]
    }
   ],
   "source": [
    "print_port_res(res['x'], 'Minimum Variance Portfolio (Found with Helper Function)')"
   ]
  },
  {
   "cell_type": "markdown",
   "metadata": {},
   "source": [
    "---"
   ]
  },
  {
   "cell_type": "markdown",
   "metadata": {},
   "source": [
    "***Practice:***\n",
    "Map the efficient frontier.\n",
    "Note that you must constrain returns to some target."
   ]
  },
  {
   "cell_type": "markdown",
   "metadata": {},
   "source": [
    "***Tips:*** \n",
    "We will minimize portfolio volatility subject to target portfolio return constraint.\n",
    "So, next the `sco.minimize()` function call inside a loop over target returns."
   ]
  },
  {
   "cell_type": "code",
   "execution_count": 50,
   "metadata": {},
   "outputs": [
    {
     "data": {
      "text/plain": [
       "AAPL    0.1980\n",
       "IBM    -0.1313\n",
       "MSFT    0.2888\n",
       "TWTR    0.4086\n",
       "dtype: float64"
      ]
     },
     "execution_count": 50,
     "metadata": {},
     "output_type": "execute_result"
    }
   ],
   "source": [
    "252 * returns.mean()"
   ]
  },
  {
   "cell_type": "code",
   "execution_count": 51,
   "metadata": {},
   "outputs": [],
   "source": [
    "tgt_returns = np.linspace(\n",
    "    start=(252 * returns.mean()).min(), \n",
    "    stop=(252 * returns.mean()).max(), \n",
    "    num=50\n",
    ")"
   ]
  },
  {
   "cell_type": "code",
   "execution_count": 52,
   "metadata": {},
   "outputs": [],
   "source": [
    "efficient_frontier = pd.DataFrame(\n",
    "    columns=['std', 'tgt_return'], \n",
    "    index=np.arange(len(tgt_returns))\n",
    ")"
   ]
  },
  {
   "cell_type": "code",
   "execution_count": 53,
   "metadata": {},
   "outputs": [
    {
     "data": {
      "text/html": [
       "<div>\n",
       "<style scoped>\n",
       "    .dataframe tbody tr th:only-of-type {\n",
       "        vertical-align: middle;\n",
       "    }\n",
       "\n",
       "    .dataframe tbody tr th {\n",
       "        vertical-align: top;\n",
       "    }\n",
       "\n",
       "    .dataframe thead th {\n",
       "        text-align: right;\n",
       "    }\n",
       "</style>\n",
       "<table border=\"1\" class=\"dataframe\">\n",
       "  <thead>\n",
       "    <tr style=\"text-align: right;\">\n",
       "      <th></th>\n",
       "      <th>std</th>\n",
       "      <th>tgt_return</th>\n",
       "    </tr>\n",
       "  </thead>\n",
       "  <tbody>\n",
       "    <tr>\n",
       "      <th>0</th>\n",
       "      <td>NaN</td>\n",
       "      <td>NaN</td>\n",
       "    </tr>\n",
       "    <tr>\n",
       "      <th>1</th>\n",
       "      <td>NaN</td>\n",
       "      <td>NaN</td>\n",
       "    </tr>\n",
       "    <tr>\n",
       "      <th>2</th>\n",
       "      <td>NaN</td>\n",
       "      <td>NaN</td>\n",
       "    </tr>\n",
       "    <tr>\n",
       "      <th>3</th>\n",
       "      <td>NaN</td>\n",
       "      <td>NaN</td>\n",
       "    </tr>\n",
       "    <tr>\n",
       "      <th>4</th>\n",
       "      <td>NaN</td>\n",
       "      <td>NaN</td>\n",
       "    </tr>\n",
       "  </tbody>\n",
       "</table>\n",
       "</div>"
      ],
      "text/plain": [
       "   std tgt_return\n",
       "0  NaN        NaN\n",
       "1  NaN        NaN\n",
       "2  NaN        NaN\n",
       "3  NaN        NaN\n",
       "4  NaN        NaN"
      ]
     },
     "execution_count": 53,
     "metadata": {},
     "output_type": "execute_result"
    }
   ],
   "source": [
    "efficient_frontier.head()"
   ]
  },
  {
   "cell_type": "code",
   "execution_count": 54,
   "metadata": {},
   "outputs": [],
   "source": [
    "i = 0 # create row counter (unecessary with .iterrows() solutions)\n",
    "for tgt in tgt_returns: # we could also add tgt_returns to efficient_frontier and use efficient_frontier.iter\n",
    "    res = sco.minimize(\n",
    "        fun=port_std, # we want to minimize portfolio volatility\n",
    "        x0=np.ones(returns.shape[1]) / returns.shape[1], # x0 contains our first guess at portfolio weights\n",
    "        args=(returns, ), # args provides additional argument to the function we will minimize\n",
    "        bounds=((0, 1), (0, 1), (0, 1), (0, 1)), # bounds limits the search space for portfolio weights\n",
    "        constraints=(\n",
    "            {'type': 'eq', 'fun': lambda x: x.sum() - 1}, # \"eq\" constraints are driven to zero\n",
    "            {'type': 'eq', 'fun': lambda x: 252 * returns.dot(x).mean() - tgt} # \"eq\" constraints are driven to zero\n",
    "        )\n",
    "    )\n",
    "    assert res['success']\n",
    "    \n",
    "    efficient_frontier.loc[i, 'std'] = res['fun']\n",
    "    efficient_frontier.loc[i, 'tgt_return'] = tgt\n",
    "    i += 1 # increment row counter (unecessary with .iterrows() solutions)"
   ]
  },
  {
   "cell_type": "code",
   "execution_count": 55,
   "metadata": {},
   "outputs": [
    {
     "data": {
      "text/html": [
       "<div>\n",
       "<style scoped>\n",
       "    .dataframe tbody tr th:only-of-type {\n",
       "        vertical-align: middle;\n",
       "    }\n",
       "\n",
       "    .dataframe tbody tr th {\n",
       "        vertical-align: top;\n",
       "    }\n",
       "\n",
       "    .dataframe thead th {\n",
       "        text-align: right;\n",
       "    }\n",
       "</style>\n",
       "<table border=\"1\" class=\"dataframe\">\n",
       "  <thead>\n",
       "    <tr style=\"text-align: right;\">\n",
       "      <th></th>\n",
       "      <th>std</th>\n",
       "      <th>tgt_return</th>\n",
       "    </tr>\n",
       "  </thead>\n",
       "  <tbody>\n",
       "    <tr>\n",
       "      <th>0</th>\n",
       "      <td>0.2064</td>\n",
       "      <td>-0.1313</td>\n",
       "    </tr>\n",
       "    <tr>\n",
       "      <th>1</th>\n",
       "      <td>0.2024</td>\n",
       "      <td>-0.1202</td>\n",
       "    </tr>\n",
       "    <tr>\n",
       "      <th>2</th>\n",
       "      <td>0.1987</td>\n",
       "      <td>-0.1092</td>\n",
       "    </tr>\n",
       "    <tr>\n",
       "      <th>3</th>\n",
       "      <td>0.1953</td>\n",
       "      <td>-0.0982</td>\n",
       "    </tr>\n",
       "    <tr>\n",
       "      <th>4</th>\n",
       "      <td>0.1922</td>\n",
       "      <td>-0.0872</td>\n",
       "    </tr>\n",
       "  </tbody>\n",
       "</table>\n",
       "</div>"
      ],
      "text/plain": [
       "     std tgt_return\n",
       "0 0.2064    -0.1313\n",
       "1 0.2024    -0.1202\n",
       "2 0.1987    -0.1092\n",
       "3 0.1953    -0.0982\n",
       "4 0.1922    -0.0872"
      ]
     },
     "execution_count": 55,
     "metadata": {},
     "output_type": "execute_result"
    }
   ],
   "source": [
    "efficient_frontier.head()"
   ]
  },
  {
   "cell_type": "code",
   "execution_count": 56,
   "metadata": {},
   "outputs": [
    {
     "data": {
      "image/png": "[encoded data removed]",
      "text/plain": [
       "<Figure size 900x600 with 1 Axes>"
      ]
     },
     "metadata": {
      "needs_background": "light"
     },
     "output_type": "display_data"
    }
   ],
   "source": [
    "efficient_frontier.plot(kind='scatter', x='std', y='tgt_return')\n",
    "plt.ylabel('Annualized Mean Return (%)')\n",
    "plt.xlabel('Annualized Volatility (%)')\n",
    "plt.title('Efficient Frontier' + '\\n' + ', '.join(returns.columns))\n",
    "plt.show()"
   ]
  },
  {
   "cell_type": "markdown",
   "metadata": {},
   "source": [
    "***Practice:***\n",
    "Find the portfolio with the maximum Sharpe Ratio.\n",
    "Note that `sco.minimize()` finds *minimums*, so you need to minimize the *negative* Sharpe Ratio."
   ]
  },
  {
   "cell_type": "code",
   "execution_count": 57,
   "metadata": {},
   "outputs": [],
   "source": [
    "def port_sr_neg(w, df, tgt):\n",
    "    return -1 * sharpe_ratio(ri=df.dot(w), tgt=tgt)"
   ]
  },
  {
   "cell_type": "code",
   "execution_count": 58,
   "metadata": {},
   "outputs": [],
   "source": [
    "res_msr = sco.minimize(\n",
    "    fun=port_sr_neg,\n",
    "    args=(returns, ff['RF']),\n",
    "    x0=np.ones(returns.shape[1]) / returns.shape[1],\n",
    "    bounds=((0, 1), (0, 1), (0, 1), (0, 1)),\n",
    "    constraints=(\n",
    "        {'type': 'eq', 'fun': lambda x: x.sum() - 1}, # eq constraints must eval. to 0\n",
    "    )\n",
    ")\n",
    "assert res_msr['success']"
   ]
  },
  {
   "cell_type": "code",
   "execution_count": 59,
   "metadata": {},
   "outputs": [
    {
     "name": "stdout",
     "output_type": "stream",
     "text": [
      "Maximum Sharpe Ratio Portfolio (Long-Only Weights)\n",
      "==================================================\n",
      "\n",
      "Performance\n",
      "-----------\n",
      "Return:       0.3038\n",
      "Volatility:   0.2303\n",
      "Sharpe Ratio: 1.2623\n",
      "\n",
      "Weights\n",
      "-------\n",
      "AAPL:         0.0000\n",
      "IBM:          0.0000\n",
      "MSFT:         0.8747\n",
      "TWTR:         0.1253\n"
     ]
    }
   ],
   "source": [
    "print_port_res(w=res_msr['x'], title='Maximum Sharpe Ratio Portfolio (Long-Only Weights)')"
   ]
  },
  {
   "cell_type": "markdown",
   "metadata": {},
   "source": [
    "We can combine the stock returns and efficient frontier with a little work."
   ]
  },
  {
   "cell_type": "code",
   "execution_count": 60,
   "metadata": {},
   "outputs": [
    {
     "name": "stderr",
     "output_type": "stream",
     "text": [
      "/home/richard/anaconda3/envs/fina-4380/lib/python3.9/site-packages/pandas/core/indexes/base.py:6982: FutureWarning: In a future version, the Index constructor will not infer numeric dtypes when passed object-dtype sequences (matching Series behavior)\n",
      "  return Index(sequences[0], name=names)\n"
     ]
    },
    {
     "data": {
      "image/png": "[encoded data removed]",
      "text/plain": [
       "<Figure size 900x600 with 1 Axes>"
      ]
     },
     "metadata": {
      "needs_background": "light"
     },
     "output_type": "display_data"
    }
   ],
   "source": [
    "markers = {\n",
    "    'AAPL': 'o', \n",
    "    'IBM': 'v', \n",
    "    'MSFT': 's', \n",
    "    'TWTR': 'd',\n",
    "    'mv': '*',\n",
    "    'msr': 'P'\n",
    "}\n",
    "\n",
    "labels = {\n",
    "    'mv': 'Min. Volatility Port.',\n",
    "    'msr': 'Max. Sharpe Ratio Port.',\n",
    "    'std': 'Annualized Volatility (%)',\n",
    "    'tgt_return': 'Annualized Mean Return (%)'\n",
    "}\n",
    "\n",
    "fig, ax = plt.subplots()\n",
    "\n",
    "efficient_frontier.mul(100).plot(\n",
    "    kind='line',\n",
    "    style='b--',\n",
    "    label='Efficient Frontier',\n",
    "    x='std',\n",
    "    y='tgt_return',\n",
    "    ax=ax\n",
    ")\n",
    "\n",
    "for i in returns:\n",
    "    ax.scatter(\n",
    "        x=100 * np.sqrt(252) * returns[i].std(), \n",
    "        y=100 * 252 * returns[i].mean(), \n",
    "        marker=markers[i], \n",
    "        label=i\n",
    "    )\n",
    "\n",
    "\n",
    "    \n",
    "# min. variance portfolio\n",
    "ax.scatter(\n",
    "    x=100 * np.sqrt(252) * returns.dot(res_mv['x']).std(), \n",
    "    y=100 * 252 * returns.dot(res_mv['x']).mean(), \n",
    "    marker=markers['mv'], \n",
    "    label=labels['mv']\n",
    ")\n",
    "\n",
    "    \n",
    "# max. sharpe ratio portfolio\n",
    "ax.scatter(\n",
    "    x=100 * np.sqrt(252) * returns.dot(res_msr['x']).std(), \n",
    "    y=100 * 252 * returns.dot(res_msr['x']).mean(), \n",
    "    marker=markers['msr'], \n",
    "    label=labels['msr']\n",
    ")\n",
    "    \n",
    "plt.legend()\n",
    "\n",
    "ax.set(\n",
    "    xlabel=labels['std'], \n",
    "    ylabel=labels['tgt_return'], \n",
    "    title='Efficient Frontier' + '\\n' + ', '.join(returns.columns)\n",
    ")\n",
    "\n",
    "plt.show()"
   ]
  },
  {
   "cell_type": "markdown",
   "metadata": {},
   "source": [
    "***Practice:***\n",
    "What is the *out-of-sample* performance of this maximum Sharpe Ratio portfolio?\n",
    "For example, what is the Sharpe Ratio of this portfolio from 2019 through today?\n",
    "How does this compare to the Sharpe Ratio of the $1/N$ portfolio?"
   ]
  },
  {
   "cell_type": "markdown",
   "metadata": {},
   "source": [
    "Notice how much the Sharpe Ratio falls for the Maximum Sharpe Ratio Portfolio Out-of-Sample."
   ]
  },
  {
   "cell_type": "code",
   "execution_count": 61,
   "metadata": {},
   "outputs": [
    {
     "name": "stdout",
     "output_type": "stream",
     "text": [
      "Maximum Sharpe Ratio Portfolio Out-of-Sample\n",
      "============================================\n",
      "\n",
      "Performance\n",
      "-----------\n",
      "Return:       0.2553\n",
      "Volatility:   0.5208\n",
      "Sharpe Ratio: 0.3907\n",
      "\n",
      "Weights\n",
      "-------\n",
      "AAPL:         0.0000\n",
      "IBM:          0.0000\n",
      "MSFT:         0.0000\n",
      "TWTR:         1.0000\n"
     ]
    }
   ],
   "source": [
    "print_port_res(\n",
    "    w=res['x'], \n",
    "    title='Maximum Sharpe Ratio Portfolio Out-of-Sample',\n",
    "    df=df.loc['2019':, 'Adj Close'].pct_change()\n",
    ")"
   ]
  },
  {
   "cell_type": "markdown",
   "metadata": {},
   "source": [
    "The $\\frac{1}{n}$ portfolio has (essentially) the same performance"
   ]
  },
  {
   "cell_type": "code",
   "execution_count": 62,
   "metadata": {},
   "outputs": [
    {
     "name": "stdout",
     "output_type": "stream",
     "text": [
      "1/n Portfolio Out-of-Sample\n",
      "===========================\n",
      "\n",
      "Performance\n",
      "-----------\n",
      "Return:       0.3076\n",
      "Volatility:   0.2835\n",
      "Sharpe Ratio: 0.9573\n",
      "\n",
      "Weights\n",
      "-------\n",
      "AAPL:         0.2500\n",
      "IBM:          0.2500\n",
      "MSFT:         0.2500\n",
      "TWTR:         0.2500\n"
     ]
    }
   ],
   "source": [
    "print_port_res(\n",
    "    w=np.ones(returns.shape[1]) / returns.shape[1], \n",
    "    title='1/n Portfolio Out-of-Sample',\n",
    "    df=df.loc['2019':, 'Adj Close'].pct_change()\n",
    ")"
   ]
  },
  {
   "cell_type": "markdown",
   "metadata": {},
   "source": [
    "***Practice:***\n",
    "Find the portfolio with the maximum Sharpe Ratio, but allow short positions up to 30% of the portfolio.\n",
    "So for every one dollar invested, you can short one or more of these four stocks to finance another 30 cents."
   ]
  },
  {
   "cell_type": "code",
   "execution_count": 63,
   "metadata": {},
   "outputs": [
    {
     "name": "stderr",
     "output_type": "stream",
     "text": [
      "/home/richard/anaconda3/envs/fina-4380/lib/python3.9/site-packages/scipy/optimize/optimize.py:282: RuntimeWarning: Values in x were outside bounds during a minimize step, clipping to bounds\n",
      "  warnings.warn(\"Values in x were outside bounds during a \"\n",
      "/home/richard/anaconda3/envs/fina-4380/lib/python3.9/site-packages/scipy/optimize/optimize.py:282: RuntimeWarning: Values in x were outside bounds during a minimize step, clipping to bounds\n",
      "  warnings.warn(\"Values in x were outside bounds during a \"\n",
      "/home/richard/anaconda3/envs/fina-4380/lib/python3.9/site-packages/scipy/optimize/optimize.py:282: RuntimeWarning: Values in x were outside bounds during a minimize step, clipping to bounds\n",
      "  warnings.warn(\"Values in x were outside bounds during a \"\n"
     ]
    }
   ],
   "source": [
    "res = sco.minimize(\n",
    "    fun=port_sr_neg,\n",
    "    args=(returns, ff['RF']),\n",
    "    x0=np.ones(returns.shape[1]) / returns.shape[1],\n",
    "    bounds=((-0.3, 1.3), (-0.3, 1.3), (-0.3, 1.3), (-0.3, 1.3)),\n",
    "    constraints=(\n",
    "        {'type': 'eq', 'fun': lambda x: x.sum() - 1}, # eq constraints must eval. to 0\n",
    "        {'type': 'ineq', 'fun': lambda x: x[x < 0].sum() + 0.3} # ineq constraints must eval. to >= 0\n",
    "    )\n",
    ")\n",
    "assert res['success']"
   ]
  },
  {
   "cell_type": "code",
   "execution_count": 64,
   "metadata": {},
   "outputs": [
    {
     "data": {
      "text/plain": [
       "     fun: -1.5210569535178415\n",
       "     jac: array([0.1442, 0.7868, 0.1438, 0.1465])\n",
       " message: 'Optimization terminated successfully'\n",
       "    nfev: 36\n",
       "     nit: 7\n",
       "    njev: 7\n",
       "  status: 0\n",
       " success: True\n",
       "       x: array([ 0.0782, -0.3   ,  1.1035,  0.1184])"
      ]
     },
     "execution_count": 64,
     "metadata": {},
     "output_type": "execute_result"
    }
   ],
   "source": [
    "res"
   ]
  },
  {
   "cell_type": "markdown",
   "metadata": {},
   "source": [
    "---"
   ]
  }
 ],
 "metadata": {
  "author": "Richard Herron",
  "kernelspec": {
   "display_name": "Python 3 (ipykernel)",
   "language": "python",
   "name": "python3"
  },
  "language_info": {
   "codemirror_mode": {
    "name": "ipython",
    "version": 3
   },
   "file_extension": ".py",
   "mimetype": "text/x-python",
   "name": "python",
   "nbconvert_exporter": "python",
   "pygments_lexer": "ipython3",
   "version": "3.9.12"
  },
  "title": "Lewinson Chapter 7 - Asset Allocation in Python",
  "toc": {
   "base_numbering": 1,
   "nav_menu": {},
   "number_sections": true,
   "sideBar": true,
   "skip_h1_title": false,
   "title_cell": "Table of Contents",
   "title_sidebar": "Contents",
   "toc_cell": false,
   "toc_position": {
    "height": "calc(100% - 180px)",
    "left": "10px",
    "top": "150px",
    "width": "336px"
   },
   "toc_section_display": true,
   "toc_window_display": true
  },
  "toc-autonumbering": true,
  "varInspector": {
   "cols": {
    "lenName": 16,
    "lenType": 16,
    "lenVar": 40
   },
   "kernels_config": {
    "python": {
     "delete_cmd_postfix": "",
     "delete_cmd_prefix": "del ",
     "library": "var_list.py",
     "varRefreshCmd": "print(var_dic_list())"
    },
    "r": {
     "delete_cmd_postfix": ") ",
     "delete_cmd_prefix": "rm(",
     "library": "var_list.r",
     "varRefreshCmd": "cat(var_dic_list()) "
    }
   },
   "types_to_exclude": [
    "module",
    "function",
    "builtin_function_or_method",
    "instance",
    "_Feature"
   ],
   "window_display": false
  }
 },
 "nbformat": 4,
 "nbformat_minor": 4
}
